{
 "cells": [
  {
   "metadata": {},
   "cell_type": "markdown",
   "source": "# Introduction to Python programming\n\n---\n\nProf. Dr.-Ing. Antje Muntzinger, Hochschule für Technik Stuttgart\n\nantje.muntzinger@hft-stuttgart.de\n\n---"
  },
  {
   "metadata": {},
   "cell_type": "markdown",
   "source": "This notebook is based on [http://github.com/jrjohansson/scientific-python-lectures](http://github.com/jrjohansson/scientific-python-lectures)."
  },
  {
   "metadata": {},
   "cell_type": "markdown",
   "source": "## Python program files"
  },
  {
   "metadata": {},
   "cell_type": "markdown",
   "source": "* Python code is usually stored in text files with the file ending \"`.py`\":\n\n        myprogram.py\n\n* Every line in a Python program file is assumed to be a Python statement, or part thereof. \n\n    * The only exception is comment lines, which start with the character `#` (optionally preceded by an arbitrary number of white-space characters, i.e., tabs or spaces). Comment lines are usually ignored by the Python interpreter.\n\n\n* To run our Python program from the command line we use:\n\n        $ python myprogram.py\n"
  },
  {
   "metadata": {},
   "cell_type": "markdown",
   "source": "## Jupyter notebooks"
  },
  {
   "metadata": {},
   "cell_type": "markdown",
   "source": "This file - a Jupyter notebook -  does not follow the standard pattern with Python code in a text file. Instead, a Jupyter notebook is stored as a file in the [JSON](http://en.wikipedia.org/wiki/JSON) format. The advantage is that we can mix formatted text, Python code and code output. It requires the Jupyter notebook server to run it though, and therefore isn't a stand-alone Python program as described above. Other than that, there is no difference between the Python code that goes into a program file or a Jupyter notebook."
  },
  {
   "metadata": {},
   "cell_type": "markdown",
   "source": "## Modules"
  },
  {
   "metadata": {},
   "cell_type": "markdown",
   "source": "Most of the functionality in Python is provided by *modules*. The Python Standard Library is a large collection of modules that provides *cross-platform* implementations of common facilities such as access to the operating system, file I/O, string management, network communication, and much more."
  },
  {
   "metadata": {},
   "cell_type": "markdown",
   "source": "### References"
  },
  {
   "metadata": {},
   "cell_type": "markdown",
   "source": " * The Python Language Reference: http://docs.python.org/2/reference/index.html\n * The Python Standard Library: http://docs.python.org/2/library/\n\nTo use a module in a Python program it first has to be imported. A module can be imported using the `import` statement. For example, to import the module `math`, which contains many standard mathematical functions, we can do:"
  },
  {
   "metadata": {
    "jupyter": {
     "outputs_hidden": false
    },
    "trusted": true
   },
   "cell_type": "code",
   "source": "import math",
   "execution_count": 1,
   "outputs": []
  },
  {
   "metadata": {},
   "cell_type": "markdown",
   "source": "This includes the whole module and makes it available for use later in the program. For example, we can do:"
  },
  {
   "metadata": {
    "jupyter": {
     "outputs_hidden": false
    },
    "trusted": true
   },
   "cell_type": "code",
   "source": "import math\n\nx = math.cos(2 * math.pi)\n\nprint(x)",
   "execution_count": 2,
   "outputs": [
    {
     "output_type": "stream",
     "text": "1.0\n",
     "name": "stdout"
    }
   ]
  },
  {
   "metadata": {},
   "cell_type": "markdown",
   "source": "Alternatively, we can choose to import all symbols (functions and variables) in a module to the current namespace so that we don't need to use the prefix \"`math.`\" every time we use something from the `math` module:"
  },
  {
   "metadata": {
    "jupyter": {
     "outputs_hidden": false
    },
    "trusted": true
   },
   "cell_type": "code",
   "source": "from math import *\n\nx = cos(2 * pi)\n\nprint(x) ",
   "execution_count": 3,
   "outputs": [
    {
     "output_type": "stream",
     "text": "1.0\n",
     "name": "stdout"
    }
   ]
  },
  {
   "metadata": {},
   "cell_type": "markdown",
   "source": "This pattern can be very convenient, but in large programs that include many modules it is often a good idea to keep the symbols from each module in their own namespaces, by using the `import math` pattern. This would eliminate potentially confusing problems with name space collisions.\n\nAs a third alternative, we can choose to import only a few selected symbols from a module by explicitly listing which ones we want to import instead of using the wildcard character `*`:"
  },
  {
   "metadata": {
    "jupyter": {
     "outputs_hidden": false
    },
    "trusted": true
   },
   "cell_type": "code",
   "source": "from math import cos, pi\n\nx = cos(2 * pi)\n\nprint(x)",
   "execution_count": 4,
   "outputs": [
    {
     "output_type": "stream",
     "text": "1.0\n",
     "name": "stdout"
    }
   ]
  },
  {
   "metadata": {},
   "cell_type": "markdown",
   "source": "### Looking at what a module contains, and its documentation"
  },
  {
   "metadata": {},
   "cell_type": "markdown",
   "source": "Once a module is imported, we can list the symbols it provides using the `dir` function:"
  },
  {
   "metadata": {
    "jupyter": {
     "outputs_hidden": false
    },
    "trusted": true
   },
   "cell_type": "code",
   "source": "import math\n\nprint(dir(math))",
   "execution_count": 5,
   "outputs": [
    {
     "output_type": "stream",
     "text": "['__doc__', '__loader__', '__name__', '__package__', '__spec__', 'acos', 'acosh', 'asin', 'asinh', 'atan', 'atan2', 'atanh', 'ceil', 'comb', 'copysign', 'cos', 'cosh', 'degrees', 'dist', 'e', 'erf', 'erfc', 'exp', 'expm1', 'fabs', 'factorial', 'floor', 'fmod', 'frexp', 'fsum', 'gamma', 'gcd', 'hypot', 'inf', 'isclose', 'isfinite', 'isinf', 'isnan', 'isqrt', 'lcm', 'ldexp', 'lgamma', 'log', 'log10', 'log1p', 'log2', 'modf', 'nan', 'nextafter', 'perm', 'pi', 'pow', 'prod', 'radians', 'remainder', 'sin', 'sinh', 'sqrt', 'tan', 'tanh', 'tau', 'trunc', 'ulp']\n",
     "name": "stdout"
    }
   ]
  },
  {
   "metadata": {},
   "cell_type": "markdown",
   "source": "And using the function `help` we can get a description of each function (almost .. not all functions have docstrings, as they are technically called, but the vast majority of functions are documented this way). "
  },
  {
   "metadata": {
    "jupyter": {
     "outputs_hidden": false
    },
    "trusted": true
   },
   "cell_type": "code",
   "source": "help(math.log)",
   "execution_count": 6,
   "outputs": [
    {
     "output_type": "stream",
     "text": "Help on built-in function log in module math:\n\nlog(...)\n\n",
     "name": "stdout"
    }
   ]
  },
  {
   "metadata": {
    "jupyter": {
     "outputs_hidden": false
    },
    "trusted": true
   },
   "cell_type": "code",
   "source": "log(10)",
   "execution_count": 7,
   "outputs": [
    {
     "output_type": "execute_result",
     "execution_count": 7,
     "data": {
      "text/plain": "2.302585092994046"
     },
     "metadata": {}
    }
   ]
  },
  {
   "metadata": {
    "jupyter": {
     "outputs_hidden": false
    },
    "trusted": true
   },
   "cell_type": "code",
   "source": "log(10, 2)",
   "execution_count": 8,
   "outputs": [
    {
     "output_type": "execute_result",
     "execution_count": 8,
     "data": {
      "text/plain": "3.3219280948873626"
     },
     "metadata": {}
    }
   ]
  },
  {
   "metadata": {},
   "cell_type": "markdown",
   "source": "We can also use the `help` function directly on modules: Try\n\n    help(math) \n\nSome very useful modules form the Python standard library are `os`, `sys`, `math`, `shutil`, `re`, `subprocess`, `multiprocessing`, `threading`. \n\nA complete lists of standard modules for Python 2 and Python 3 are available at http://docs.python.org/2/library/ and http://docs.python.org/3/library/, respectively."
  },
  {
   "metadata": {},
   "cell_type": "markdown",
   "source": "**TODO 1**: Convert the angle 180° from degrees to radians. Use the list of functions in math module printed above for hints on helpful functions."
  },
  {
   "metadata": {
    "trusted": true
   },
   "cell_type": "code",
   "source": "# YOUR CODE GOES HERE\n\n",
   "execution_count": 9,
   "outputs": []
  },
  {
   "metadata": {},
   "cell_type": "markdown",
   "source": "## Variables and types"
  },
  {
   "metadata": {},
   "cell_type": "markdown",
   "source": "### Symbol names "
  },
  {
   "metadata": {},
   "cell_type": "markdown",
   "source": "Variable names in Python can contain alphanumerical characters `a-z`, `A-Z`, `0-9` and some special characters such as `_`. Normal variable names must start with a letter. \n\nBy convention, variable names start with a lower-case letter, and Class names start with a capital letter. \n\nIn addition, there are a number of Python keywords that cannot be used as variable names. These keywords are:\n\n    and, as, assert, break, class, continue, def, del, elif, else, except, \n    exec, finally, for, from, global, if, import, in, is, lambda, not, or,\n    pass, print, raise, return, try, while, with, yield\n\nNote: Be aware of the keyword `lambda`, which could easily be a natural variable name in a scientific program. But being a keyword, it cannot be used as a variable name."
  },
  {
   "metadata": {},
   "cell_type": "markdown",
   "source": "### Assignment"
  },
  {
   "metadata": {},
   "cell_type": "markdown",
   "source": "\n\nThe assignment operator in Python is `=`. Python is a dynamically typed language, so we do not need to specify the type of a variable when we create one.\n\nAssigning a value to a new variable creates the variable:"
  },
  {
   "metadata": {
    "jupyter": {
     "outputs_hidden": false
    },
    "trusted": true
   },
   "cell_type": "code",
   "source": "# variable assignments\nx = 1.0\nmy_variable = 12.2",
   "execution_count": 10,
   "outputs": []
  },
  {
   "metadata": {},
   "cell_type": "markdown",
   "source": "Although not explicitly specified, a variable does have a type associated with it. The type is derived from the value that was assigned to it."
  },
  {
   "metadata": {
    "jupyter": {
     "outputs_hidden": false
    },
    "trusted": true
   },
   "cell_type": "code",
   "source": "type(x)",
   "execution_count": 11,
   "outputs": [
    {
     "output_type": "execute_result",
     "execution_count": 11,
     "data": {
      "text/plain": "float"
     },
     "metadata": {}
    }
   ]
  },
  {
   "metadata": {},
   "cell_type": "markdown",
   "source": "If we assign a new value to a variable, its type can change."
  },
  {
   "metadata": {
    "jupyter": {
     "outputs_hidden": false
    },
    "trusted": true
   },
   "cell_type": "code",
   "source": "x = 1",
   "execution_count": 12,
   "outputs": []
  },
  {
   "metadata": {
    "jupyter": {
     "outputs_hidden": false
    },
    "trusted": true
   },
   "cell_type": "code",
   "source": "type(x)",
   "execution_count": 13,
   "outputs": [
    {
     "output_type": "execute_result",
     "execution_count": 13,
     "data": {
      "text/plain": "int"
     },
     "metadata": {}
    }
   ]
  },
  {
   "metadata": {},
   "cell_type": "markdown",
   "source": "If we try to use a variable that has not yet been defined we get an `NameError`:"
  },
  {
   "metadata": {
    "jupyter": {
     "outputs_hidden": false
    },
    "trusted": true
   },
   "cell_type": "code",
   "source": "# print(y) # this will raise an error",
   "execution_count": 14,
   "outputs": []
  },
  {
   "metadata": {},
   "cell_type": "markdown",
   "source": "### Fundamental types"
  },
  {
   "metadata": {
    "jupyter": {
     "outputs_hidden": false
    },
    "trusted": true
   },
   "cell_type": "code",
   "source": "# integers\nx = 1\ntype(x)",
   "execution_count": 15,
   "outputs": [
    {
     "output_type": "execute_result",
     "execution_count": 15,
     "data": {
      "text/plain": "int"
     },
     "metadata": {}
    }
   ]
  },
  {
   "metadata": {
    "jupyter": {
     "outputs_hidden": false
    },
    "trusted": true
   },
   "cell_type": "code",
   "source": "# float\nx = 1.0\ntype(x)",
   "execution_count": 16,
   "outputs": [
    {
     "output_type": "execute_result",
     "execution_count": 16,
     "data": {
      "text/plain": "float"
     },
     "metadata": {}
    }
   ]
  },
  {
   "metadata": {
    "jupyter": {
     "outputs_hidden": false
    },
    "trusted": true
   },
   "cell_type": "code",
   "source": "# boolean\nb1 = True\nb2 = False\n\ntype(b1)",
   "execution_count": 17,
   "outputs": [
    {
     "output_type": "execute_result",
     "execution_count": 17,
     "data": {
      "text/plain": "bool"
     },
     "metadata": {}
    }
   ]
  },
  {
   "metadata": {},
   "cell_type": "markdown",
   "source": "### Type utility functions"
  },
  {
   "metadata": {
    "jupyter": {
     "outputs_hidden": false
    },
    "trusted": true
   },
   "cell_type": "code",
   "source": "x = 1.0\n\n# check if the variable x is a float\ntype(x) is float",
   "execution_count": 18,
   "outputs": [
    {
     "output_type": "execute_result",
     "execution_count": 18,
     "data": {
      "text/plain": "True"
     },
     "metadata": {}
    }
   ]
  },
  {
   "metadata": {
    "jupyter": {
     "outputs_hidden": false
    },
    "trusted": true
   },
   "cell_type": "code",
   "source": "# check if the variable x is an int\ntype(x) is int",
   "execution_count": 19,
   "outputs": [
    {
     "output_type": "execute_result",
     "execution_count": 19,
     "data": {
      "text/plain": "False"
     },
     "metadata": {}
    }
   ]
  },
  {
   "metadata": {},
   "cell_type": "markdown",
   "source": "We can also use the `isinstance` method for testing types of variables:"
  },
  {
   "metadata": {
    "jupyter": {
     "outputs_hidden": false
    },
    "trusted": true
   },
   "cell_type": "code",
   "source": "isinstance(x, float)",
   "execution_count": 20,
   "outputs": [
    {
     "output_type": "execute_result",
     "execution_count": 20,
     "data": {
      "text/plain": "True"
     },
     "metadata": {}
    }
   ]
  },
  {
   "metadata": {},
   "cell_type": "markdown",
   "source": "### Type casting"
  },
  {
   "metadata": {
    "jupyter": {
     "outputs_hidden": false
    },
    "trusted": true
   },
   "cell_type": "code",
   "source": "x = 1.5\n\nprint(x, type(x))",
   "execution_count": 21,
   "outputs": [
    {
     "output_type": "stream",
     "text": "1.5 <class 'float'>\n",
     "name": "stdout"
    }
   ]
  },
  {
   "metadata": {
    "jupyter": {
     "outputs_hidden": false
    },
    "trusted": true
   },
   "cell_type": "code",
   "source": "x = int(x)\n\nprint(x, type(x))",
   "execution_count": 22,
   "outputs": [
    {
     "output_type": "stream",
     "text": "1 <class 'int'>\n",
     "name": "stdout"
    }
   ]
  },
  {
   "metadata": {},
   "cell_type": "markdown",
   "source": "**TODO 2**: Create variables of different types (e.g. integer, float, boolean) and use the `type()` function to print the type of each variable. Then, try some type conversions between these variables and print the results."
  },
  {
   "metadata": {
    "trusted": true
   },
   "cell_type": "code",
   "source": "# YOUR CODE GOES HERE\n\n\n",
   "execution_count": 23,
   "outputs": []
  },
  {
   "metadata": {},
   "cell_type": "markdown",
   "source": "## Operators and comparisons"
  },
  {
   "metadata": {},
   "cell_type": "markdown",
   "source": "Most operators and comparisons in Python work as one would expect:\n\n* Arithmetic operators `+`, `-`, `*`, `/`, '**' power\n"
  },
  {
   "metadata": {
    "jupyter": {
     "outputs_hidden": false
    },
    "trusted": true
   },
   "cell_type": "code",
   "source": "1 + 2, 1 - 2, 1 * 2, 1 / 2",
   "execution_count": 24,
   "outputs": [
    {
     "output_type": "execute_result",
     "execution_count": 24,
     "data": {
      "text/plain": "(3, -1, 2, 0.5)"
     },
     "metadata": {}
    }
   ]
  },
  {
   "metadata": {
    "jupyter": {
     "outputs_hidden": false
    },
    "trusted": true
   },
   "cell_type": "code",
   "source": "1.0 + 2.0, 1.0 - 2.0, 1.0 * 2.0, 1.0 / 2.0",
   "execution_count": 25,
   "outputs": [
    {
     "output_type": "execute_result",
     "execution_count": 25,
     "data": {
      "text/plain": "(3.0, -1.0, 2.0, 0.5)"
     },
     "metadata": {}
    }
   ]
  },
  {
   "metadata": {
    "jupyter": {
     "outputs_hidden": false
    },
    "trusted": true
   },
   "cell_type": "code",
   "source": "# Note! The power operators in python isn't ^, but **\n2 ** 3",
   "execution_count": 26,
   "outputs": [
    {
     "output_type": "execute_result",
     "execution_count": 26,
     "data": {
      "text/plain": "8"
     },
     "metadata": {}
    }
   ]
  },
  {
   "metadata": {},
   "cell_type": "markdown",
   "source": "* The boolean operators are spelled out as the words `and`, `not`, `or`. "
  },
  {
   "metadata": {
    "jupyter": {
     "outputs_hidden": false
    },
    "trusted": true
   },
   "cell_type": "code",
   "source": "True and False",
   "execution_count": 27,
   "outputs": [
    {
     "output_type": "execute_result",
     "execution_count": 27,
     "data": {
      "text/plain": "False"
     },
     "metadata": {}
    }
   ]
  },
  {
   "metadata": {
    "jupyter": {
     "outputs_hidden": false
    },
    "trusted": true
   },
   "cell_type": "code",
   "source": "not False",
   "execution_count": 28,
   "outputs": [
    {
     "output_type": "execute_result",
     "execution_count": 28,
     "data": {
      "text/plain": "True"
     },
     "metadata": {}
    }
   ]
  },
  {
   "metadata": {
    "jupyter": {
     "outputs_hidden": false
    },
    "trusted": true
   },
   "cell_type": "code",
   "source": "True or False",
   "execution_count": 29,
   "outputs": [
    {
     "output_type": "execute_result",
     "execution_count": 29,
     "data": {
      "text/plain": "True"
     },
     "metadata": {}
    }
   ]
  },
  {
   "metadata": {},
   "cell_type": "markdown",
   "source": "* Comparison operators `>`, `<`, `>=` (greater or equal), `<=` (less or equal), `==` equality, `is` identical."
  },
  {
   "metadata": {
    "jupyter": {
     "outputs_hidden": false
    },
    "trusted": true
   },
   "cell_type": "code",
   "source": "2 > 1, 2 < 1",
   "execution_count": 30,
   "outputs": [
    {
     "output_type": "execute_result",
     "execution_count": 30,
     "data": {
      "text/plain": "(True, False)"
     },
     "metadata": {}
    }
   ]
  },
  {
   "metadata": {
    "jupyter": {
     "outputs_hidden": false
    },
    "trusted": true
   },
   "cell_type": "code",
   "source": "2 > 2, 2 < 2",
   "execution_count": 31,
   "outputs": [
    {
     "output_type": "execute_result",
     "execution_count": 31,
     "data": {
      "text/plain": "(False, False)"
     },
     "metadata": {}
    }
   ]
  },
  {
   "metadata": {
    "jupyter": {
     "outputs_hidden": false
    },
    "trusted": true
   },
   "cell_type": "code",
   "source": "2 >= 2, 2 <= 2",
   "execution_count": 32,
   "outputs": [
    {
     "output_type": "execute_result",
     "execution_count": 32,
     "data": {
      "text/plain": "(True, True)"
     },
     "metadata": {}
    }
   ]
  },
  {
   "metadata": {
    "jupyter": {
     "outputs_hidden": false
    },
    "trusted": true
   },
   "cell_type": "code",
   "source": "# equality\n[1,2] == [1,2]",
   "execution_count": 33,
   "outputs": [
    {
     "output_type": "execute_result",
     "execution_count": 33,
     "data": {
      "text/plain": "True"
     },
     "metadata": {}
    }
   ]
  },
  {
   "metadata": {
    "jupyter": {
     "outputs_hidden": false
    },
    "trusted": true
   },
   "cell_type": "code",
   "source": "# objects identical?\nl1 = l2 = [1,2]\n\nl1 is l2",
   "execution_count": 34,
   "outputs": [
    {
     "output_type": "execute_result",
     "execution_count": 34,
     "data": {
      "text/plain": "True"
     },
     "metadata": {}
    }
   ]
  },
  {
   "metadata": {},
   "cell_type": "markdown",
   "source": "**TODO 3**: Write a program that compares two numbers and prints whether the first number is greater than, less than, or equal to the second number."
  },
  {
   "metadata": {
    "trusted": true
   },
   "cell_type": "code",
   "source": "# YOUR CODE GOES HERE\n\n\n",
   "execution_count": 35,
   "outputs": []
  },
  {
   "metadata": {},
   "cell_type": "markdown",
   "source": "## Compound types: Strings, List and dictionaries"
  },
  {
   "metadata": {},
   "cell_type": "markdown",
   "source": "### Strings"
  },
  {
   "metadata": {},
   "cell_type": "markdown",
   "source": "Strings are the variable type that is used for storing text messages. "
  },
  {
   "metadata": {
    "jupyter": {
     "outputs_hidden": false
    },
    "trusted": true
   },
   "cell_type": "code",
   "source": "s = \"Hello world\"\ntype(s)",
   "execution_count": 36,
   "outputs": [
    {
     "output_type": "execute_result",
     "execution_count": 36,
     "data": {
      "text/plain": "str"
     },
     "metadata": {}
    }
   ]
  },
  {
   "metadata": {
    "jupyter": {
     "outputs_hidden": false
    },
    "trusted": true
   },
   "cell_type": "code",
   "source": "# length of the string: the number of characters\nlen(s)",
   "execution_count": 37,
   "outputs": [
    {
     "output_type": "execute_result",
     "execution_count": 37,
     "data": {
      "text/plain": "11"
     },
     "metadata": {}
    }
   ]
  },
  {
   "metadata": {
    "jupyter": {
     "outputs_hidden": false
    },
    "trusted": true
   },
   "cell_type": "code",
   "source": "# replace a substring in a string with something else\ns2 = s.replace(\"world\", \"test\")\nprint(s2)",
   "execution_count": 38,
   "outputs": [
    {
     "output_type": "stream",
     "text": "Hello test\n",
     "name": "stdout"
    }
   ]
  },
  {
   "metadata": {},
   "cell_type": "markdown",
   "source": "We can index a character in a string using `[]`:"
  },
  {
   "metadata": {
    "jupyter": {
     "outputs_hidden": false
    },
    "trusted": true
   },
   "cell_type": "code",
   "source": "s[0]",
   "execution_count": 39,
   "outputs": [
    {
     "output_type": "execute_result",
     "execution_count": 39,
     "data": {
      "text/plain": "'H'"
     },
     "metadata": {}
    }
   ]
  },
  {
   "metadata": {},
   "cell_type": "markdown",
   "source": "**Heads up MATLAB users:** Indexing start at 0!\n\nWe can extract a part of a string using the syntax `[start:stop]`, which extracts characters between index `start` and `stop` -1 (the character at index `stop` is not included):"
  },
  {
   "metadata": {
    "jupyter": {
     "outputs_hidden": false
    },
    "trusted": true
   },
   "cell_type": "code",
   "source": "s[0:5]",
   "execution_count": 40,
   "outputs": [
    {
     "output_type": "execute_result",
     "execution_count": 40,
     "data": {
      "text/plain": "'Hello'"
     },
     "metadata": {}
    }
   ]
  },
  {
   "metadata": {
    "jupyter": {
     "outputs_hidden": false
    },
    "trusted": true
   },
   "cell_type": "code",
   "source": "s[4:5]",
   "execution_count": 41,
   "outputs": [
    {
     "output_type": "execute_result",
     "execution_count": 41,
     "data": {
      "text/plain": "'o'"
     },
     "metadata": {}
    }
   ]
  },
  {
   "metadata": {},
   "cell_type": "markdown",
   "source": "If we omit either (or both) of `start` or `stop` from `[start:stop]`, the default is the beginning and the end of the string, respectively:"
  },
  {
   "metadata": {
    "jupyter": {
     "outputs_hidden": false
    },
    "trusted": true
   },
   "cell_type": "code",
   "source": "s[:5]",
   "execution_count": 42,
   "outputs": [
    {
     "output_type": "execute_result",
     "execution_count": 42,
     "data": {
      "text/plain": "'Hello'"
     },
     "metadata": {}
    }
   ]
  },
  {
   "metadata": {
    "jupyter": {
     "outputs_hidden": false
    },
    "trusted": true
   },
   "cell_type": "code",
   "source": "s[6:]",
   "execution_count": 43,
   "outputs": [
    {
     "output_type": "execute_result",
     "execution_count": 43,
     "data": {
      "text/plain": "'world'"
     },
     "metadata": {}
    }
   ]
  },
  {
   "metadata": {
    "jupyter": {
     "outputs_hidden": false
    },
    "trusted": true
   },
   "cell_type": "code",
   "source": "s[:]",
   "execution_count": 44,
   "outputs": [
    {
     "output_type": "execute_result",
     "execution_count": 44,
     "data": {
      "text/plain": "'Hello world'"
     },
     "metadata": {}
    }
   ]
  },
  {
   "metadata": {},
   "cell_type": "markdown",
   "source": "We can also define the step size using the syntax `[start:end:step]` (the default value for `step` is 1, as we saw above):"
  },
  {
   "metadata": {
    "jupyter": {
     "outputs_hidden": false
    },
    "trusted": true
   },
   "cell_type": "code",
   "source": "s[::1]",
   "execution_count": 45,
   "outputs": [
    {
     "output_type": "execute_result",
     "execution_count": 45,
     "data": {
      "text/plain": "'Hello world'"
     },
     "metadata": {}
    }
   ]
  },
  {
   "metadata": {
    "jupyter": {
     "outputs_hidden": false
    },
    "trusted": true
   },
   "cell_type": "code",
   "source": "s[::2]",
   "execution_count": 46,
   "outputs": [
    {
     "output_type": "execute_result",
     "execution_count": 46,
     "data": {
      "text/plain": "'Hlowrd'"
     },
     "metadata": {}
    }
   ]
  },
  {
   "metadata": {},
   "cell_type": "markdown",
   "source": "This technique is called *slicing*. Read more about the syntax here: http://docs.python.org/release/2.7.3/library/functions.html?highlight=slice#slice"
  },
  {
   "metadata": {},
   "cell_type": "markdown",
   "source": "Python has a very rich set of functions for text processing. See for example http://docs.python.org/2/library/string.html for more information."
  },
  {
   "metadata": {},
   "cell_type": "markdown",
   "source": "#### String formatting examples"
  },
  {
   "metadata": {
    "jupyter": {
     "outputs_hidden": false
    },
    "trusted": true
   },
   "cell_type": "code",
   "source": "print(\"str1\", \"str2\", \"str3\")  # The print statement concatenates strings with a space",
   "execution_count": 47,
   "outputs": [
    {
     "output_type": "stream",
     "text": "str1 str2 str3\n",
     "name": "stdout"
    }
   ]
  },
  {
   "metadata": {
    "jupyter": {
     "outputs_hidden": false
    },
    "trusted": true
   },
   "cell_type": "code",
   "source": "print(\"str1\", 1.0, False, -1j)  # The print statements converts all arguments to strings",
   "execution_count": 48,
   "outputs": [
    {
     "output_type": "stream",
     "text": "str1 1.0 False (-0-1j)\n",
     "name": "stdout"
    }
   ]
  },
  {
   "metadata": {
    "jupyter": {
     "outputs_hidden": false
    },
    "trusted": true
   },
   "cell_type": "code",
   "source": "print(\"str1\" + \"str2\" + \"str3\") # strings added with + are concatenated without space",
   "execution_count": 49,
   "outputs": [
    {
     "output_type": "stream",
     "text": "str1str2str3\n",
     "name": "stdout"
    }
   ]
  },
  {
   "metadata": {
    "jupyter": {
     "outputs_hidden": false
    },
    "trusted": true
   },
   "cell_type": "code",
   "source": "print(\"value = %f\" % 1.0)       # we can use C-style string formatting",
   "execution_count": 50,
   "outputs": [
    {
     "output_type": "stream",
     "text": "value = 1.000000\n",
     "name": "stdout"
    }
   ]
  },
  {
   "metadata": {},
   "cell_type": "markdown",
   "source": "### List"
  },
  {
   "metadata": {},
   "cell_type": "markdown",
   "source": "Lists are very similar to strings, except that each element can be of any type.\n\nThe syntax for creating lists in Python is `[...]`:"
  },
  {
   "metadata": {
    "jupyter": {
     "outputs_hidden": false
    },
    "trusted": true
   },
   "cell_type": "code",
   "source": "l = [1,2,3,4]\n\nprint(type(l))\nprint(l)",
   "execution_count": 51,
   "outputs": [
    {
     "output_type": "stream",
     "text": "<class 'list'>\n[1, 2, 3, 4]\n",
     "name": "stdout"
    }
   ]
  },
  {
   "metadata": {},
   "cell_type": "markdown",
   "source": "We can use the same slicing techniques to manipulate lists as we could use on strings:"
  },
  {
   "metadata": {
    "jupyter": {
     "outputs_hidden": false
    },
    "trusted": true
   },
   "cell_type": "code",
   "source": "print(l)\n\nprint(l[1:3])\n\nprint(l[::2])",
   "execution_count": 52,
   "outputs": [
    {
     "output_type": "stream",
     "text": "[1, 2, 3, 4]\n[2, 3]\n[1, 3]\n",
     "name": "stdout"
    }
   ]
  },
  {
   "metadata": {},
   "cell_type": "markdown",
   "source": "**Heads up MATLAB users:** Indexing starts at 0!"
  },
  {
   "metadata": {
    "jupyter": {
     "outputs_hidden": false
    },
    "trusted": true
   },
   "cell_type": "code",
   "source": "l[0]",
   "execution_count": 53,
   "outputs": [
    {
     "output_type": "execute_result",
     "execution_count": 53,
     "data": {
      "text/plain": "1"
     },
     "metadata": {}
    }
   ]
  },
  {
   "metadata": {},
   "cell_type": "markdown",
   "source": "Elements in a list do not all have to be of the same type:"
  },
  {
   "metadata": {
    "jupyter": {
     "outputs_hidden": false
    },
    "trusted": true
   },
   "cell_type": "code",
   "source": "l = [1, 'a', 1.0, 1-1j]\n\nprint(l)",
   "execution_count": 54,
   "outputs": [
    {
     "output_type": "stream",
     "text": "[1, 'a', 1.0, (1-1j)]\n",
     "name": "stdout"
    }
   ]
  },
  {
   "metadata": {},
   "cell_type": "markdown",
   "source": "Python lists can be inhomogeneous and arbitrarily nested:"
  },
  {
   "metadata": {
    "jupyter": {
     "outputs_hidden": false
    },
    "trusted": true
   },
   "cell_type": "code",
   "source": "nested_list = [1, [2, [3, [4, [5]]]]]\n\nnested_list",
   "execution_count": 55,
   "outputs": [
    {
     "output_type": "execute_result",
     "execution_count": 55,
     "data": {
      "text/plain": "[1, [2, [3, [4, [5]]]]]"
     },
     "metadata": {}
    }
   ]
  },
  {
   "metadata": {},
   "cell_type": "markdown",
   "source": "Lists play a very important role in Python. For example they are used in loops and other flow control structures (discussed below). There are a number of convenient functions for generating lists of various types, for example the `range` function:"
  },
  {
   "metadata": {
    "jupyter": {
     "outputs_hidden": false
    },
    "trusted": true
   },
   "cell_type": "code",
   "source": "start = 10\nstop = 30\nstep = 2\n\nrange(start, stop, step)",
   "execution_count": 56,
   "outputs": [
    {
     "output_type": "execute_result",
     "execution_count": 56,
     "data": {
      "text/plain": "range(10, 30, 2)"
     },
     "metadata": {}
    }
   ]
  },
  {
   "metadata": {
    "jupyter": {
     "outputs_hidden": false
    },
    "trusted": true
   },
   "cell_type": "code",
   "source": "# in python 3 range generates an iterator, which can be converted to a list using 'list(...)'.\nlist(range(start, stop, step))",
   "execution_count": 57,
   "outputs": [
    {
     "output_type": "execute_result",
     "execution_count": 57,
     "data": {
      "text/plain": "[10, 12, 14, 16, 18, 20, 22, 24, 26, 28]"
     },
     "metadata": {}
    }
   ]
  },
  {
   "metadata": {
    "jupyter": {
     "outputs_hidden": false
    },
    "trusted": true
   },
   "cell_type": "code",
   "source": "list(range(-10, 10))",
   "execution_count": 58,
   "outputs": [
    {
     "output_type": "execute_result",
     "execution_count": 58,
     "data": {
      "text/plain": "[-10, -9, -8, -7, -6, -5, -4, -3, -2, -1, 0, 1, 2, 3, 4, 5, 6, 7, 8, 9]"
     },
     "metadata": {}
    }
   ]
  },
  {
   "metadata": {
    "jupyter": {
     "outputs_hidden": false
    },
    "trusted": true
   },
   "cell_type": "code",
   "source": "s",
   "execution_count": 59,
   "outputs": [
    {
     "output_type": "execute_result",
     "execution_count": 59,
     "data": {
      "text/plain": "'Hello world'"
     },
     "metadata": {}
    }
   ]
  },
  {
   "metadata": {
    "jupyter": {
     "outputs_hidden": false
    },
    "trusted": true
   },
   "cell_type": "code",
   "source": "# convert a string to a list by type casting:\ns2 = list(s)\n\ns2",
   "execution_count": 60,
   "outputs": [
    {
     "output_type": "execute_result",
     "execution_count": 60,
     "data": {
      "text/plain": "['H', 'e', 'l', 'l', 'o', ' ', 'w', 'o', 'r', 'l', 'd']"
     },
     "metadata": {}
    }
   ]
  },
  {
   "metadata": {
    "jupyter": {
     "outputs_hidden": false
    },
    "trusted": true
   },
   "cell_type": "code",
   "source": "# sorting lists\ns2.sort()\n\nprint(s2)",
   "execution_count": 61,
   "outputs": [
    {
     "output_type": "stream",
     "text": "[' ', 'H', 'd', 'e', 'l', 'l', 'l', 'o', 'o', 'r', 'w']\n",
     "name": "stdout"
    }
   ]
  },
  {
   "metadata": {},
   "cell_type": "markdown",
   "source": "#### Adding, inserting, modifying, and removing elements from lists"
  },
  {
   "metadata": {
    "jupyter": {
     "outputs_hidden": false
    },
    "trusted": true
   },
   "cell_type": "code",
   "source": "# create a new empty list\nl = []\n\n# add an elements using `append`\nl.append(\"A\")\nl.append(\"d\")\nl.append(\"d\")\n\nprint(l)",
   "execution_count": 62,
   "outputs": [
    {
     "output_type": "stream",
     "text": "['A', 'd', 'd']\n",
     "name": "stdout"
    }
   ]
  },
  {
   "metadata": {},
   "cell_type": "markdown",
   "source": "We can modify lists by assigning new values to elements in the list. In technical jargon, lists are *mutable*."
  },
  {
   "metadata": {
    "jupyter": {
     "outputs_hidden": false
    },
    "trusted": true
   },
   "cell_type": "code",
   "source": "l[1] = \"p\"\nl[2] = \"p\"\n\nprint(l)",
   "execution_count": 63,
   "outputs": [
    {
     "output_type": "stream",
     "text": "['A', 'p', 'p']\n",
     "name": "stdout"
    }
   ]
  },
  {
   "metadata": {
    "jupyter": {
     "outputs_hidden": false
    },
    "trusted": true
   },
   "cell_type": "code",
   "source": "l[1:3] = [\"d\", \"d\"]\n\nprint(l)",
   "execution_count": 64,
   "outputs": [
    {
     "output_type": "stream",
     "text": "['A', 'd', 'd']\n",
     "name": "stdout"
    }
   ]
  },
  {
   "metadata": {},
   "cell_type": "markdown",
   "source": "Insert an element at an specific index using `insert`"
  },
  {
   "metadata": {
    "jupyter": {
     "outputs_hidden": false
    },
    "trusted": true
   },
   "cell_type": "code",
   "source": "l.insert(0, \"i\")\nl.insert(1, \"n\")\nl.insert(2, \"s\")\nl.insert(3, \"e\")\nl.insert(4, \"r\")\nl.insert(5, \"t\")\n\nprint(l)",
   "execution_count": 65,
   "outputs": [
    {
     "output_type": "stream",
     "text": "['i', 'n', 's', 'e', 'r', 't', 'A', 'd', 'd']\n",
     "name": "stdout"
    }
   ]
  },
  {
   "metadata": {},
   "cell_type": "markdown",
   "source": "Remove first element with specific value using 'remove'"
  },
  {
   "metadata": {
    "jupyter": {
     "outputs_hidden": false
    },
    "trusted": true
   },
   "cell_type": "code",
   "source": "l.remove(\"A\")\n\nprint(l)",
   "execution_count": 66,
   "outputs": [
    {
     "output_type": "stream",
     "text": "['i', 'n', 's', 'e', 'r', 't', 'd', 'd']\n",
     "name": "stdout"
    }
   ]
  },
  {
   "metadata": {},
   "cell_type": "markdown",
   "source": "Remove an element at a specific location using `del`:"
  },
  {
   "metadata": {
    "jupyter": {
     "outputs_hidden": false
    },
    "trusted": true
   },
   "cell_type": "code",
   "source": "del l[7]\ndel l[6]\n\nprint(l)",
   "execution_count": 67,
   "outputs": [
    {
     "output_type": "stream",
     "text": "['i', 'n', 's', 'e', 'r', 't']\n",
     "name": "stdout"
    }
   ]
  },
  {
   "metadata": {},
   "cell_type": "markdown",
   "source": "See `help(list)` for more details, or read the online documentation "
  },
  {
   "metadata": {},
   "cell_type": "markdown",
   "source": "### Tuples"
  },
  {
   "metadata": {},
   "cell_type": "markdown",
   "source": "Tuples are like lists, except that they cannot be modified once created, that is they are *immutable*. \n\nIn Python, tuples are created using the syntax `(..., ..., ...)`, or even `..., ...`:"
  },
  {
   "metadata": {
    "jupyter": {
     "outputs_hidden": false
    },
    "trusted": true
   },
   "cell_type": "code",
   "source": "point = (10, 20)\n\nprint(point, type(point))",
   "execution_count": 68,
   "outputs": [
    {
     "output_type": "stream",
     "text": "(10, 20) <class 'tuple'>\n",
     "name": "stdout"
    }
   ]
  },
  {
   "metadata": {
    "jupyter": {
     "outputs_hidden": false
    },
    "trusted": true
   },
   "cell_type": "code",
   "source": "point = 10, 20\n\nprint(point, type(point))",
   "execution_count": 69,
   "outputs": [
    {
     "output_type": "stream",
     "text": "(10, 20) <class 'tuple'>\n",
     "name": "stdout"
    }
   ]
  },
  {
   "metadata": {},
   "cell_type": "markdown",
   "source": "We can unpack a tuple by assigning it to a comma-separated list of variables:"
  },
  {
   "metadata": {
    "jupyter": {
     "outputs_hidden": false
    },
    "trusted": true
   },
   "cell_type": "code",
   "source": "x, y = point\n\nprint(\"x =\", x)\nprint(\"y =\", y)",
   "execution_count": 70,
   "outputs": [
    {
     "output_type": "stream",
     "text": "x = 10\ny = 20\n",
     "name": "stdout"
    }
   ]
  },
  {
   "metadata": {},
   "cell_type": "markdown",
   "source": "If we try to assign a new value to an element in a tuple we get an error:"
  },
  {
   "metadata": {
    "jupyter": {
     "outputs_hidden": false
    },
    "trusted": true
   },
   "cell_type": "code",
   "source": "# point[0] = 20 # This will give an error",
   "execution_count": 71,
   "outputs": []
  },
  {
   "metadata": {},
   "cell_type": "markdown",
   "source": "### Dictionaries"
  },
  {
   "metadata": {},
   "cell_type": "markdown",
   "source": "Dictionaries are also like lists, except that each element is a key-value pair. Also, the key-value-pairs are unordered (in contrast, lists and tuples are ordered sequences indexed by int numbers). \nThe syntax for dictionaries is with curly braces: `{key1 : value1, ...}`"
  },
  {
   "metadata": {
    "jupyter": {
     "outputs_hidden": false
    },
    "trusted": true
   },
   "cell_type": "code",
   "source": "params = {\"parameter1\" : 1.0,\n          \"parameter2\" : 2.0,\n          \"parameter3\" : 3.0,}\n\nprint(type(params))\nprint(params)",
   "execution_count": 72,
   "outputs": [
    {
     "output_type": "stream",
     "text": "<class 'dict'>\n{'parameter1': 1.0, 'parameter2': 2.0, 'parameter3': 3.0}\n",
     "name": "stdout"
    }
   ]
  },
  {
   "metadata": {
    "jupyter": {
     "outputs_hidden": false
    },
    "trusted": true
   },
   "cell_type": "code",
   "source": "print(\"parameter1 = \" + str(params[\"parameter1\"]))\nprint(\"parameter2 = \" + str(params[\"parameter2\"]))\nprint(\"parameter3 = \" + str(params[\"parameter3\"]))",
   "execution_count": 73,
   "outputs": [
    {
     "output_type": "stream",
     "text": "parameter1 = 1.0\nparameter2 = 2.0\nparameter3 = 3.0\n",
     "name": "stdout"
    }
   ]
  },
  {
   "metadata": {
    "jupyter": {
     "outputs_hidden": false
    },
    "trusted": true
   },
   "cell_type": "code",
   "source": "params[\"parameter1\"] = \"A\"\nparams[\"parameter2\"] = \"B\"\n\n# add a new entry\nparams[\"parameter4\"] = \"D\"\n\nprint(\"parameter1 = \" + str(params[\"parameter1\"]))\nprint(\"parameter2 = \" + str(params[\"parameter2\"]))\nprint(\"parameter3 = \" + str(params[\"parameter3\"]))\nprint(\"parameter4 = \" + str(params[\"parameter4\"]))",
   "execution_count": 74,
   "outputs": [
    {
     "output_type": "stream",
     "text": "parameter1 = A\nparameter2 = B\nparameter3 = 3.0\nparameter4 = D\n",
     "name": "stdout"
    }
   ]
  },
  {
   "metadata": {},
   "cell_type": "markdown",
   "source": "Here is a concrete example:"
  },
  {
   "metadata": {
    "trusted": true
   },
   "cell_type": "code",
   "source": "# example of a dictionary\ncapital_country = {\"United States\" : \"Washington\",\n                   \"Canada\" : \"Ottawa\", \"Germany\": \"Berlin\",\n                   \"France\" : \"Paris\", \"England\" : \"London\"}\nprint(capital_country[\"Germany\"])",
   "execution_count": 75,
   "outputs": [
    {
     "output_type": "stream",
     "text": "Berlin\n",
     "name": "stdout"
    }
   ]
  },
  {
   "metadata": {},
   "cell_type": "markdown",
   "source": "**TODO 4**: Create 1) a list of fruits and 2) a dictionary mapping fruits to their colors. Print the second fruit in the list and the color of this specified fruit."
  },
  {
   "metadata": {
    "trusted": true
   },
   "cell_type": "code",
   "source": "# YOUR CODE GOES HERE\n",
   "execution_count": 76,
   "outputs": []
  },
  {
   "metadata": {},
   "cell_type": "markdown",
   "source": "### Sets"
  },
  {
   "metadata": {},
   "cell_type": "markdown",
   "source": "Sets are unordered collections without duplicate elements. The syntax for sets is with curly braces (similar to dictionaries): `{element1, element2, ...}`"
  },
  {
   "metadata": {
    "trusted": true
   },
   "cell_type": "code",
   "source": "# initialize sets in 2 different ways:\nmyset = set()\nmyset.add('test')\n\nmyset2 = {1,2,2}\n\nprint(type(myset))\nprint(myset)\n\nprint(type(myset2))\nprint(myset2)",
   "execution_count": 77,
   "outputs": [
    {
     "output_type": "stream",
     "text": "<class 'set'>\n{'test'}\n<class 'set'>\n{1, 2}\n",
     "name": "stdout"
    }
   ]
  },
  {
   "metadata": {},
   "cell_type": "markdown",
   "source": "## Control Flow"
  },
  {
   "metadata": {},
   "cell_type": "markdown",
   "source": "### Conditional statements: if, elif, else"
  },
  {
   "metadata": {},
   "cell_type": "markdown",
   "source": "The Python syntax for conditional execution of code uses the keywords `if`, `elif` (else if), `else`:"
  },
  {
   "metadata": {
    "jupyter": {
     "outputs_hidden": false
    },
    "trusted": true
   },
   "cell_type": "code",
   "source": "statement1 = False\nstatement2 = False\n\nif statement1:\n    print(\"statement1 is True\")\n    \nelif statement2:\n    print(\"statement2 is True\")\n    \nelse:\n    print(\"statement1 and statement2 are False\")",
   "execution_count": 78,
   "outputs": [
    {
     "output_type": "stream",
     "text": "statement1 and statement2 are False\n",
     "name": "stdout"
    }
   ]
  },
  {
   "metadata": {},
   "cell_type": "markdown",
   "source": "For the first time, here we encounter a peculiar and unusual aspect of the Python programming language: Program blocks are defined by their indentation level. \n\nCompare to the equivalent C code:\n\n    if (statement1)\n    {\n        printf(\"statement1 is True\\n\");\n    }\n    else if (statement2)\n    {\n        printf(\"statement2 is True\\n\");\n    }\n    else\n    {\n        printf(\"statement1 and statement2 are False\\n\");\n    }\n\nIn C blocks are defined by the enclosing curly brackets `{` and `}`. And the level of indentation (white space before the code statements) does not matter (completely optional). \n\nBut in Python, the extent of a code block is defined by the indentation level (usually a tab or say four white spaces). This means that we have to be careful to indent our code correctly, or else we will get syntax errors. "
  },
  {
   "metadata": {},
   "cell_type": "markdown",
   "source": "#### Examples:"
  },
  {
   "metadata": {
    "jupyter": {
     "outputs_hidden": false
    },
    "trusted": true
   },
   "cell_type": "code",
   "source": "statement1 = statement2 = True\n\nif statement1:\n    if statement2:\n        print(\"both statement1 and statement2 are True\")",
   "execution_count": 79,
   "outputs": [
    {
     "output_type": "stream",
     "text": "both statement1 and statement2 are True\n",
     "name": "stdout"
    }
   ]
  },
  {
   "metadata": {
    "jupyter": {
     "outputs_hidden": false
    },
    "trusted": true
   },
   "cell_type": "code",
   "source": "# Bad indentation!\nif statement1:\n    if statement2:\n    print(\"both statement1 and statement2 are True\")  # this line is not properly indented",
   "execution_count": 80,
   "outputs": [
    {
     "output_type": "error",
     "ename": "IndentationError",
     "evalue": "expected an indented block after 'if' statement on line 3 (<ipython-input-80-ac4109c9123a>, line 4)",
     "traceback": [
      "\u001b[0;36m  File \u001b[0;32m\"<ipython-input-80-ac4109c9123a>\"\u001b[0;36m, line \u001b[0;32m4\u001b[0m\n\u001b[0;31m    print(\"both statement1 and statement2 are True\")  # this line is not properly indented\u001b[0m\n\u001b[0m    ^\u001b[0m\n\u001b[0;31mIndentationError\u001b[0m\u001b[0;31m:\u001b[0m expected an indented block after 'if' statement on line 3\n"
     ]
    }
   ]
  },
  {
   "metadata": {
    "jupyter": {
     "outputs_hidden": false
    },
    "trusted": true
   },
   "cell_type": "code",
   "source": "statement1 = False \n\nif statement1:\n    print(\"printed if statement1 is True\")\n    \n    print(\"still inside the if block\")",
   "execution_count": null,
   "outputs": []
  },
  {
   "metadata": {
    "jupyter": {
     "outputs_hidden": false
    },
    "trusted": true
   },
   "cell_type": "code",
   "source": "if statement1:\n    print(\"printed if statement1 is True\")\n    \nprint(\"now outside the if block\")",
   "execution_count": null,
   "outputs": []
  },
  {
   "metadata": {},
   "cell_type": "markdown",
   "source": "## Loops"
  },
  {
   "metadata": {},
   "cell_type": "markdown",
   "source": "In Python, loops can be programmed in a number of different ways. The most common is the `for` loop, which is used together with iterable objects, such as lists. The basic syntax is:"
  },
  {
   "metadata": {},
   "cell_type": "markdown",
   "source": "### **`for` loops**:"
  },
  {
   "metadata": {
    "jupyter": {
     "outputs_hidden": false
    },
    "trusted": true
   },
   "cell_type": "code",
   "source": "for x in [1,2,3]:\n    print(x)",
   "execution_count": null,
   "outputs": []
  },
  {
   "metadata": {},
   "cell_type": "markdown",
   "source": "The `for` loop iterates over the elements of the supplied list, and executes the containing block once for each element. Any kind of list can be used in the `for` loop. For example:"
  },
  {
   "metadata": {
    "jupyter": {
     "outputs_hidden": false
    },
    "trusted": true
   },
   "cell_type": "code",
   "source": "for x in range(4): # by default range start at 0\n    print(x)",
   "execution_count": null,
   "outputs": []
  },
  {
   "metadata": {},
   "cell_type": "markdown",
   "source": "Note: `range(4)` does not include 4 !"
  },
  {
   "metadata": {
    "jupyter": {
     "outputs_hidden": false
    },
    "trusted": true
   },
   "cell_type": "code",
   "source": "for x in range(-3,3):\n    print(x)",
   "execution_count": null,
   "outputs": []
  },
  {
   "metadata": {
    "jupyter": {
     "outputs_hidden": false
    },
    "trusted": true
   },
   "cell_type": "code",
   "source": "for word in [\"scientific\", \"computing\", \"with\", \"python\"]:\n    print(word)",
   "execution_count": null,
   "outputs": []
  },
  {
   "metadata": {},
   "cell_type": "markdown",
   "source": "To iterate over key-value pairs of a dictionary:"
  },
  {
   "metadata": {
    "jupyter": {
     "outputs_hidden": false
    },
    "trusted": true
   },
   "cell_type": "code",
   "source": "for key, value in params.items():\n    print(key + \" = \" + str(value))",
   "execution_count": null,
   "outputs": []
  },
  {
   "metadata": {},
   "cell_type": "markdown",
   "source": "Sometimes it is useful to have access to the indices of the values when iterating over a list. We can use the `enumerate` function for this:"
  },
  {
   "metadata": {
    "jupyter": {
     "outputs_hidden": false
    },
    "trusted": true
   },
   "cell_type": "code",
   "source": "for idx, x in enumerate(range(-3,3)):\n    print(idx, x)",
   "execution_count": null,
   "outputs": []
  },
  {
   "metadata": {},
   "cell_type": "markdown",
   "source": "**TODO 5**: Write a matrix multiplication using nested loops. Apply it on the given matrices A and B below. Print the result.\n\n**HINT:** You will need 3 nested loops iterating over 0,1,2. "
  },
  {
   "metadata": {
    "trusted": true
   },
   "cell_type": "code",
   "source": "# given matrices A and B as nested lists (lists of lists):\nA = [[1, 2, 3], [4, 5, 6], [7, 8, 9]]\nB = [[9, 8, 7], [6, 5, 4], [3, 2, 1]]\n\n# you can access elements of a matrix (lists of lists) like this:\nprint(A[1][2]) # this will print the element in the second row, third column\nprint(B[0]) # this will print the first row of the matrix B (= the outer list at index 0)\nprint([B[i][0] for i in range(len(B))]) # this will print the first column of the matrix B\n\n# YOUR CODE GOES HERE\n\n\n",
   "execution_count": null,
   "outputs": []
  },
  {
   "metadata": {},
   "cell_type": "markdown",
   "source": "### List comprehensions: Creating lists using `for` loops:"
  },
  {
   "metadata": {},
   "cell_type": "markdown",
   "source": "\"List comprehension\" is the idea of writing some code inside of a list - a convenient and compact way to initialize lists:"
  },
  {
   "metadata": {
    "jupyter": {
     "outputs_hidden": false
    },
    "trusted": true
   },
   "cell_type": "code",
   "source": "l1 = [x**2 for x in range(0,5)]\n\nprint(l1)",
   "execution_count": null,
   "outputs": []
  },
  {
   "metadata": {},
   "cell_type": "markdown",
   "source": "This code does the same, but is less compact:"
  },
  {
   "metadata": {
    "jupyter": {
     "outputs_hidden": false
    },
    "trusted": true
   },
   "cell_type": "code",
   "source": "l2 = []\nfor x in range(5):\n    l2.append(x ** 2)\n\nprint(l2)",
   "execution_count": null,
   "outputs": []
  },
  {
   "metadata": {},
   "cell_type": "markdown",
   "source": "### `while` loops:"
  },
  {
   "metadata": {
    "jupyter": {
     "outputs_hidden": false
    },
    "trusted": true
   },
   "cell_type": "code",
   "source": "i = 0\n\nwhile i < 5:\n    print(i)\n    \n    i = i + 1\n    \nprint(\"done\")",
   "execution_count": null,
   "outputs": []
  },
  {
   "metadata": {},
   "cell_type": "markdown",
   "source": "Note that the `print(\"done\")` statement is not part of the `while` loop body because of the difference in indentation."
  },
  {
   "metadata": {},
   "cell_type": "markdown",
   "source": "## Functions"
  },
  {
   "metadata": {},
   "cell_type": "markdown",
   "source": "A function in Python is defined using the keyword `def`, followed by a function name, a signature within parentheses `()`, and a colon `:`. The following code, with one additional level of indentation, is the function body."
  },
  {
   "metadata": {
    "jupyter": {
     "outputs_hidden": false
    },
    "trusted": true
   },
   "cell_type": "code",
   "source": "def func0():   \n    print(\"test\")",
   "execution_count": null,
   "outputs": []
  },
  {
   "metadata": {
    "jupyter": {
     "outputs_hidden": false
    },
    "trusted": true
   },
   "cell_type": "code",
   "source": "func0()",
   "execution_count": null,
   "outputs": []
  },
  {
   "metadata": {},
   "cell_type": "markdown",
   "source": "Optionally, but highly recommended, we can define a so called \"docstring\", which is a description of the functions purpose and behavior. The docstring should follow directly after the function definition, before the code in the function body."
  },
  {
   "metadata": {
    "jupyter": {
     "outputs_hidden": false
    },
    "trusted": true
   },
   "cell_type": "code",
   "source": "def func1(s):\n    \"\"\"\n    Print a string 's' and tell how many characters it has    \n    \"\"\"\n    \n    print(s + \" has \" + str(len(s)) + \" characters\")",
   "execution_count": null,
   "outputs": []
  },
  {
   "metadata": {
    "jupyter": {
     "outputs_hidden": false
    },
    "trusted": true
   },
   "cell_type": "code",
   "source": "help(func1)",
   "execution_count": null,
   "outputs": []
  },
  {
   "metadata": {
    "jupyter": {
     "outputs_hidden": false
    },
    "trusted": true
   },
   "cell_type": "code",
   "source": "func1(\"test\")",
   "execution_count": null,
   "outputs": []
  },
  {
   "metadata": {},
   "cell_type": "markdown",
   "source": "Functions that returns a value use the `return` keyword:"
  },
  {
   "metadata": {
    "jupyter": {
     "outputs_hidden": false
    },
    "trusted": true
   },
   "cell_type": "code",
   "source": "def square(x):\n    \"\"\"\n    Return the square of x.\n    \"\"\"\n    return x ** 2",
   "execution_count": null,
   "outputs": []
  },
  {
   "metadata": {
    "jupyter": {
     "outputs_hidden": false
    },
    "trusted": true
   },
   "cell_type": "code",
   "source": "square(4)",
   "execution_count": null,
   "outputs": []
  },
  {
   "metadata": {},
   "cell_type": "markdown",
   "source": "We can return multiple values from a function using tuples (see above):"
  },
  {
   "metadata": {
    "jupyter": {
     "outputs_hidden": false
    },
    "trusted": true
   },
   "cell_type": "code",
   "source": "def powers(x):\n    \"\"\"\n    Return a few powers of x.\n    \"\"\"\n    return x ** 2, x ** 3, x ** 4",
   "execution_count": null,
   "outputs": []
  },
  {
   "metadata": {
    "jupyter": {
     "outputs_hidden": false
    },
    "trusted": true
   },
   "cell_type": "code",
   "source": "powers(3)",
   "execution_count": null,
   "outputs": []
  },
  {
   "metadata": {
    "jupyter": {
     "outputs_hidden": false
    },
    "trusted": true
   },
   "cell_type": "code",
   "source": "x2, x3, x4 = powers(3)\n\nprint(x3)",
   "execution_count": null,
   "outputs": []
  },
  {
   "metadata": {},
   "cell_type": "markdown",
   "source": "**TODO 6:** Implement the sigmoid function. The formula is $\\sigma(x) = 1 / (1 + \\exp(-x))$."
  },
  {
   "metadata": {
    "trusted": true
   },
   "cell_type": "code",
   "source": "# YOUR CODE GOES HERE\n\n\n",
   "execution_count": null,
   "outputs": []
  },
  {
   "metadata": {},
   "cell_type": "markdown",
   "source": "**TODO 7**: Rewrite your matrix multiplication code using functions. You should have a function that takes two matrices as input and returns the product of the two matrices."
  },
  {
   "metadata": {
    "trusted": true
   },
   "cell_type": "code",
   "source": "# YOUR CODE GOES HERE\n\n\n",
   "execution_count": null,
   "outputs": []
  },
  {
   "metadata": {},
   "cell_type": "markdown",
   "source": "### Default argument and keyword arguments"
  },
  {
   "metadata": {},
   "cell_type": "markdown",
   "source": "In a definition of a function, we can give default values to the arguments the function takes:"
  },
  {
   "metadata": {
    "jupyter": {
     "outputs_hidden": false
    },
    "trusted": true
   },
   "cell_type": "code",
   "source": "def myfunc(x, p=2, debug=False):\n    if debug:\n        print(\"evaluating myfunc for x = \" + str(x) + \" using exponent p = \" + str(p))\n    return x**p",
   "execution_count": null,
   "outputs": []
  },
  {
   "metadata": {},
   "cell_type": "markdown",
   "source": "If we don't provide a value of the `debug` argument when calling the the function `myfunc` it defaults to the value provided in the function definition:"
  },
  {
   "metadata": {
    "jupyter": {
     "outputs_hidden": false
    },
    "trusted": true
   },
   "cell_type": "code",
   "source": "myfunc(5)",
   "execution_count": null,
   "outputs": []
  },
  {
   "metadata": {
    "jupyter": {
     "outputs_hidden": false
    },
    "trusted": true
   },
   "cell_type": "code",
   "source": "myfunc(5, debug=True)",
   "execution_count": null,
   "outputs": []
  },
  {
   "metadata": {},
   "cell_type": "markdown",
   "source": "If we explicitly list the name of the arguments in the function calls, they do not need to come in the same order as in the function definition. This is called *keyword* arguments, and is often very useful in functions that takes a lot of optional arguments."
  },
  {
   "metadata": {
    "jupyter": {
     "outputs_hidden": false
    },
    "trusted": true
   },
   "cell_type": "code",
   "source": "myfunc(p=3, debug=True, x=7)",
   "execution_count": null,
   "outputs": []
  },
  {
   "metadata": {},
   "cell_type": "markdown",
   "source": "### Unnamed functions (lambda function)"
  },
  {
   "metadata": {},
   "cell_type": "markdown",
   "source": "In Python we can also create unnamed functions, using the `lambda` keyword:"
  },
  {
   "metadata": {
    "jupyter": {
     "outputs_hidden": false
    },
    "trusted": true
   },
   "cell_type": "code",
   "source": "f1 = lambda x: x**2\n    \n# is equivalent to \n\ndef f2(x):\n    return x**2",
   "execution_count": null,
   "outputs": []
  },
  {
   "metadata": {
    "jupyter": {
     "outputs_hidden": false
    },
    "trusted": true
   },
   "cell_type": "code",
   "source": "f1(2), f2(2)",
   "execution_count": null,
   "outputs": []
  },
  {
   "metadata": {},
   "cell_type": "markdown",
   "source": "This technique is useful for example when we want to pass a simple function as an argument to another function, like this:"
  },
  {
   "metadata": {
    "jupyter": {
     "outputs_hidden": false
    },
    "trusted": true
   },
   "cell_type": "code",
   "source": "# map is a built-in python function\nmap(lambda x: x**2, range(-3,4))",
   "execution_count": null,
   "outputs": []
  },
  {
   "metadata": {
    "jupyter": {
     "outputs_hidden": false
    },
    "trusted": true
   },
   "cell_type": "code",
   "source": "# in python 3 we can use `list(...)` to convert the iterator to an explicit list\nlist(map(lambda x: x**2, range(-3,4)))",
   "execution_count": null,
   "outputs": []
  },
  {
   "metadata": {},
   "cell_type": "markdown",
   "source": "**TODO 8**: Rewrite your sigmoid calculation above using the `lambda` syntax."
  },
  {
   "metadata": {
    "trusted": true
   },
   "cell_type": "code",
   "source": "# YOUR CODE GOES HERE\n\n",
   "execution_count": null,
   "outputs": []
  },
  {
   "metadata": {},
   "cell_type": "markdown",
   "source": "## Classes"
  },
  {
   "metadata": {},
   "cell_type": "markdown",
   "source": "Classes are the key features of object-oriented programming. A class is a structure for representing an object and the operations that can be performed on the object. \n\nIn Python a class can contain *attributes* (variables) and *methods* (functions).\n\nA class is defined almost like a function, but using the `class` keyword, and the class definition usually contains a number of class method definitions (a function in a class).\n\n* Each class method should have an argument `self` as its first argument. This object is a self-reference.\n\n* Some class method names have special meaning, for example:\n\n    * `__init__`: The name of the method that is invoked when the object is first created.\n    * `__str__` : A method that is invoked when a simple string representation of the class is needed, as for example when printed.\n    * There are many more, see http://docs.python.org/2/reference/datamodel.html#special-method-names"
  },
  {
   "metadata": {
    "jupyter": {
     "outputs_hidden": false
    },
    "trusted": true
   },
   "cell_type": "code",
   "source": "class Point:\n    \"\"\"\n    Simple class for representing a point in a Cartesian coordinate system.\n    \"\"\"\n    \n    def __init__(self, x, y):\n        \"\"\"\n        Create a new Point at x, y.\n        \"\"\"\n        self.x = x\n        self.y = y\n        \n    def translate(self, dx, dy):\n        \"\"\"\n        Translate the point by dx and dy in the x and y direction.\n        \"\"\"\n        self.x += dx\n        self.y += dy\n        \n    def __str__(self):\n        return(\"Point at [%f, %f]\" % (self.x, self.y))",
   "execution_count": null,
   "outputs": []
  },
  {
   "metadata": {},
   "cell_type": "markdown",
   "source": "To create a new instance of a class:"
  },
  {
   "metadata": {
    "jupyter": {
     "outputs_hidden": false
    },
    "trusted": true
   },
   "cell_type": "code",
   "source": "p1 = Point(0, 0) # this will invoke the __init__ method in the Point class\n\nprint(p1)         # this will invoke the __str__ method",
   "execution_count": null,
   "outputs": []
  },
  {
   "metadata": {},
   "cell_type": "markdown",
   "source": "To invoke a class method in the class instance `p`:"
  },
  {
   "metadata": {
    "jupyter": {
     "outputs_hidden": false
    },
    "trusted": true
   },
   "cell_type": "code",
   "source": "p2 = Point(1, 1)\n\np1.translate(0.25, 1.5)\n\nprint(p1)\nprint(p2)",
   "execution_count": null,
   "outputs": []
  },
  {
   "metadata": {},
   "cell_type": "markdown",
   "source": "Note that calling class methods can modify the state of that particular class instance, but does not effect other class instances or any global variables.\n\nThat is one of the nice things about object-oriented design: code such as functions and related variables are grouped in separate and independent entities. "
  },
  {
   "metadata": {},
   "cell_type": "markdown",
   "source": "**TODO 9**: Create a simple class called `Dog` with attributes for name and age. Add a method to make the dog bark. Create an instance of the class and demonstrate its use."
  },
  {
   "metadata": {
    "trusted": true
   },
   "cell_type": "code",
   "source": "# YOUR CODE GOES HERE\n\n\n",
   "execution_count": null,
   "outputs": []
  },
  {
   "metadata": {},
   "cell_type": "markdown",
   "source": "## Modules"
  },
  {
   "metadata": {},
   "cell_type": "markdown",
   "source": "One of the most important concepts in good programming is to reuse code and avoid repetitions.\n\nThe idea is to write functions and classes with a well-defined purpose and scope, and reuse these instead of repeating similar code in different part of a program (modular programming). The result is usually that readability and maintainability of a program is greatly improved. What this means in practice is that our programs have fewer bugs, are easier to extend and debug/troubleshoot. \n\nPython supports modular programming at different levels. Functions and classes are examples of tools for low-level modular programming. Python modules are a higher-level modular programming construct, where we can collect related variables, functions and classes in a module. A python module is defined in a python file (with file-ending `.py`), and it can be made accessible to other Python modules and programs using the `import` statement. \n\nConsider the following example: the file `mymodule.py` contains simple example implementations of a variable, function and a class:"
  },
  {
   "metadata": {
    "jupyter": {
     "outputs_hidden": false
    },
    "trusted": true
   },
   "cell_type": "code",
   "source": "%%file mymodule.py\n\"\"\"\nExample of a python module. Contains a variable called my_variable,\na function called my_function, and a class called MyClass.\n\"\"\"\n\nmy_variable = 0\n\ndef my_function():\n    \"\"\"\n    Example function\n    \"\"\"\n    return my_variable\n    \nclass MyClass:\n    \"\"\"\n    Example class.\n    \"\"\"\n\n    def __init__(self):\n        self.variable = my_variable\n        \n    def set_variable(self, new_value):\n        \"\"\"\n        Set self.variable to a new value\n        \"\"\"\n        self.variable = new_value\n        \n    def get_variable(self):\n        return self.variable",
   "execution_count": null,
   "outputs": []
  },
  {
   "metadata": {},
   "cell_type": "markdown",
   "source": "We can import the module `mymodule` into our Python program using `import`:"
  },
  {
   "metadata": {
    "jupyter": {
     "outputs_hidden": false
    },
    "trusted": true
   },
   "cell_type": "code",
   "source": "import mymodule",
   "execution_count": null,
   "outputs": []
  },
  {
   "metadata": {},
   "cell_type": "markdown",
   "source": "Use `help(module)` to get a summary of what the module provides:"
  },
  {
   "metadata": {
    "jupyter": {
     "outputs_hidden": false
    },
    "trusted": true
   },
   "cell_type": "code",
   "source": "help(mymodule)",
   "execution_count": null,
   "outputs": []
  },
  {
   "metadata": {
    "jupyter": {
     "outputs_hidden": false
    },
    "trusted": true
   },
   "cell_type": "code",
   "source": "mymodule.my_variable",
   "execution_count": null,
   "outputs": []
  },
  {
   "metadata": {
    "jupyter": {
     "outputs_hidden": false
    },
    "trusted": true
   },
   "cell_type": "code",
   "source": "mymodule.my_function() ",
   "execution_count": null,
   "outputs": []
  },
  {
   "metadata": {
    "jupyter": {
     "outputs_hidden": false
    },
    "trusted": true
   },
   "cell_type": "code",
   "source": "my_class = mymodule.MyClass() \nmy_class.set_variable(10)\nmy_class.get_variable()",
   "execution_count": null,
   "outputs": []
  },
  {
   "metadata": {},
   "cell_type": "markdown",
   "source": "## Exceptions"
  },
  {
   "metadata": {},
   "cell_type": "markdown",
   "source": "In Python errors are managed with a special language construct called \"Exceptions\". When errors occur exceptions can be raised, which interrupts the normal program flow and fallback to somewhere else in the code where the closest try-except statement is defined."
  },
  {
   "metadata": {},
   "cell_type": "markdown",
   "source": "To generate an exception we can use the `raise` statement, which takes an argument that must be an instance of the class `BaseException` or a class derived from it. "
  },
  {
   "metadata": {
    "jupyter": {
     "outputs_hidden": false
    },
    "trusted": true
   },
   "cell_type": "code",
   "source": "raise Exception(\"description of the error\")",
   "execution_count": null,
   "outputs": []
  },
  {
   "metadata": {},
   "cell_type": "markdown",
   "source": "A typical use of exceptions is to abort functions when some error condition occurs, for example:\n\n    def my_function(arguments):\n    \n        if not verify(arguments):\n            raise Exception(\"Invalid arguments\")\n        \n        # rest of the code goes here"
  },
  {
   "metadata": {},
   "cell_type": "markdown",
   "source": "To gracefully catch errors that are generated by functions and class methods, or by the Python interpreter itself, use the `try` and  `except` statements:\n\n    try:\n        # normal code goes here\n    except:\n        # code for error handling goes here\n        # this code is not executed unless the code\n        # above generated an error\n\nFor example:"
  },
  {
   "metadata": {
    "jupyter": {
     "outputs_hidden": false
    },
    "trusted": true
   },
   "cell_type": "code",
   "source": "try:\n    print(\"test\")\n    # generate an error: the variable test is not defined\n    print(test)\nexcept:\n    print(\"Caught an exception\")",
   "execution_count": null,
   "outputs": []
  },
  {
   "metadata": {},
   "cell_type": "markdown",
   "source": "To get information about the error, we can access the `Exception` class instance that describes the exception by using for example:\n\n    except Exception as e:"
  },
  {
   "metadata": {
    "jupyter": {
     "outputs_hidden": false
    },
    "trusted": true
   },
   "cell_type": "code",
   "source": "try:\n    print(\"test\")\n    # generate an error: the variable test is not defined\n    print(test)\nexcept Exception as e:\n    print(\"Caught an exception: \" + str(e))",
   "execution_count": null,
   "outputs": []
  },
  {
   "metadata": {},
   "cell_type": "markdown",
   "source": "**TODO 10**: Catch the exception when the sigmoid function is passed a string instead of a number."
  },
  {
   "metadata": {
    "trusted": true
   },
   "cell_type": "code",
   "source": "# YOUR CODE GOES HERE\n\n",
   "execution_count": null,
   "outputs": []
  },
  {
   "metadata": {},
   "cell_type": "markdown",
   "source": "## Further reading"
  },
  {
   "metadata": {},
   "cell_type": "markdown",
   "source": "* http://www.python.org - The official web page of the Python programming language.\n* http://www.python.org/dev/peps/pep-0008 - Style guide for Python programming. Highly recommended. \n* http://www.greenteapress.com/thinkpython/ - A free book on Python programming.\n* [Python Essential Reference](http://www.amazon.com/Python-Essential-Reference-4th-Edition/dp/0672329786) - A good reference book on Python programming."
  }
 ],
 "metadata": {
  "kernelspec": {
   "name": "python3",
   "display_name": "Python 3",
   "language": "python"
  },
  "language_info": {
   "name": "python",
   "version": "3.10.4",
   "mimetype": "text/x-python",
   "codemirror_mode": {
    "name": "ipython",
    "version": 3
   },
   "pygments_lexer": "ipython3",
   "nbconvert_exporter": "python",
   "file_extension": ".py"
  }
 },
 "nbformat": 4,
 "nbformat_minor": 4
}