{
 "cells": [
  {
   "cell_type": "markdown",
   "metadata": {},
   "source": [
    "# Exercise: Image Manipulation in OpenCV\n",
    "\n",
    "---\n",
    "\n",
    "Prof. Dr.-Ing. Antje Muntzinger, Hochschule für Technik Stuttgart\n",
    "\n",
    "antje.muntzinger@hft-stuttgart.de\n",
    "\n",
    "---\n",
    "\n",
    "In this notebook, we practice some basic image manipulation techniques in OpenCV. These are the foundation of later computer vision applications. Your tasks are the following: \n",
    "\n",
    "- Examine the image shape\n",
    "- Split the three color channels\n",
    "- Flip the image horizontally and vertically\n",
    "- Draw on the image\n",
    "- Resize the image"
   ]
  },
  {
   "cell_type": "code",
   "execution_count": 1,
   "metadata": {},
   "outputs": [],
   "source": [
    "# imports\n",
    "import cv2\n",
    "import numpy as np\n",
    "import matplotlib.pyplot as plt\n",
    "%matplotlib inline"
   ]
  },
  {
   "cell_type": "markdown",
   "metadata": {},
   "source": [
    "## 1. Data Acquision\n",
    "\n",
    "**TODO:** Make sure the image below is loaded and displayed correctly. You don't have to change the code, but make sure your image is correctly named and placed in a subfolder called `images` of the working directory."
   ]
  },
  {
   "cell_type": "code",
   "execution_count": null,
   "metadata": {},
   "outputs": [],
   "source": [
    "# load image\n",
    "input_img = cv2.imread ('images/san_francisco_bay.jpg') \n",
    "\n",
    "# convert image to RGB and grayscale (matplotlib uses RGB, OpenCV uses BGR)\n",
    "img_RGB = cv2.cvtColor(input_img, cv2.COLOR_BGR2RGB)\n",
    "img_gray = cv2.cvtColor(input_img, cv2.COLOR_BGR2GRAY)"
   ]
  },
  {
   "cell_type": "code",
   "execution_count": null,
   "metadata": {},
   "outputs": [],
   "source": [
    "# display image\n",
    "plt.imshow(img_RGB)\n",
    "plt.title(' San Francisco Bay')"
   ]
  },
  {
   "cell_type": "markdown",
   "metadata": {},
   "source": [
    "## 2. Image Manipulation and Preprocessing"
   ]
  },
  {
   "cell_type": "markdown",
   "metadata": {},
   "source": [
    "**TODO**: Find out the size of the image using the `shape` attribute of the image array and print it. Note that images in OpenCV are basically numpy arrays. How do you interpret the output?"
   ]
  },
  {
   "cell_type": "code",
   "execution_count": 4,
   "metadata": {},
   "outputs": [],
   "source": [
    "# YOUR CODE GOES HERE"
   ]
  },
  {
   "cell_type": "markdown",
   "metadata": {},
   "source": [
    "**YOUR ANSWER**:"
   ]
  },
  {
   "cell_type": "markdown",
   "metadata": {},
   "source": [
    "**TODO**: Split the image in the three color channels and plot them separately in matplotlib. You can use OpenCV's split function (see for example here: https://www.geeksforgeeks.org/splitting-and-merging-channels-with-python-opencv/). Can you see from the images which color channel is which?\n",
    "\n",
    "**HINT:** Use `cmap = 'gray'` in `imshow` to display the channels correctly as grayscale images. In case you want to plot several images without `plt.subplots`, use `plt.show()` after each `plt.imshow` command (otherwise only the last image is displayed)."
   ]
  },
  {
   "cell_type": "code",
   "execution_count": 5,
   "metadata": {},
   "outputs": [],
   "source": [
    "# YOUR CODE GOES HERE"
   ]
  },
  {
   "cell_type": "code",
   "execution_count": null,
   "metadata": {},
   "outputs": [],
   "source": [
    "# we can make a cutout to work with a smaller part of the image (slicing)\n",
    "cutout_RGB = img_RGB[0:600, 0:1600]\n",
    "cutout_gray = cv2.cvtColor(cutout_RGB, cv2.COLOR_RGB2GRAY)\n",
    "plt.imshow(cutout_gray, cmap='gray')"
   ]
  },
  {
   "cell_type": "markdown",
   "metadata": {},
   "source": [
    "**TODO**: Flip the image horizontally and vertically and plot the results! Check out OpenCV's flip function for this task (see for example here: https://www.geeksforgeeks.org/python-opencv-cv2-flip-method/)."
   ]
  },
  {
   "cell_type": "code",
   "execution_count": 7,
   "metadata": {},
   "outputs": [],
   "source": [
    "# YOUR CODE GOES HERE"
   ]
  },
  {
   "cell_type": "markdown",
   "metadata": {},
   "source": [
    "**TODO**: Draw a red rectangle around the biggest island (Angel Island) in the original image. Check the OpenCV documentation for a suitable function to use! Note that drawing on the image changes the original image, so make a copy first.\n",
    "\n",
    "**HINT:** You can use several lines as seen in the demo, but maybe there is a simpler function?"
   ]
  },
  {
   "cell_type": "code",
   "execution_count": 8,
   "metadata": {},
   "outputs": [],
   "source": [
    "# YOUR CODE GOES HERE"
   ]
  },
  {
   "cell_type": "markdown",
   "metadata": {},
   "source": [
    "**TODO**: Resize the result to 400x400 pixels. "
   ]
  },
  {
   "cell_type": "code",
   "execution_count": 9,
   "metadata": {},
   "outputs": [],
   "source": [
    "# YOUR CODE GOES HERE"
   ]
  }
 ],
 "metadata": {
  "kernelspec": {
   "display_name": ".venv",
   "language": "python",
   "name": "python3"
  },
  "language_info": {
   "codemirror_mode": {
    "name": "ipython",
    "version": 3
   },
   "file_extension": ".py",
   "mimetype": "text/x-python",
   "name": "python",
   "nbconvert_exporter": "python",
   "pygments_lexer": "ipython3",
   "version": "3.11.7"
  }
 },
 "nbformat": 4,
 "nbformat_minor": 2
}
