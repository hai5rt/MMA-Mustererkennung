{
 "cells": [
  {
   "cell_type": "markdown",
   "metadata": {},
   "source": [
    "# Exercise: Intrinsic Camera Matrix\n",
    "\n",
    "---\n",
    "\n",
    "Prof. Dr.-Ing. Antje Muntzinger, Hochschule für Technik Stuttgart\n",
    "\n",
    "antje.muntzinger@hft-stuttgart.de\n",
    "\n",
    "---\n",
    "\n",
    "In this exercise, we apply an intrinsic camera matrix to go from camera coordinates to image coordinates."
   ]
  },
  {
   "cell_type": "code",
   "execution_count": null,
   "metadata": {},
   "outputs": [],
   "source": [
    "import numpy as np\n",
    "\n",
    "def create_camera_matrix(focal_length, principal_point, aspect_ratio=1.0, skew=0):\n",
    "    \"\"\"\n",
    "    Create intrinsic camera matrix K\n",
    "    \n",
    "    Parameters:\n",
    "    focal_length: focal length in pixels\n",
    "    principal_point: tuple (cx, cy) of principal point coordinates\n",
    "    aspect_ratio: pixel aspect ratio (default 1.0 for square pixels)\n",
    "    skew: skew coefficient (default 0 for rectangular pixels)\n",
    "    \n",
    "    Returns:\n",
    "    3x3 camera intrinsic matrix\n",
    "    \"\"\"\n",
    "    fx = focal_length\n",
    "    fy = focal_length * aspect_ratio\n",
    "    cx, cy = principal_point\n",
    "    \n",
    "    K = np.array([\n",
    "        [fx, skew, cx],\n",
    "        [0, fy, cy],\n",
    "        [0, 0, 1]\n",
    "    ])\n",
    "    \n",
    "    return K"
   ]
  },
  {
   "cell_type": "code",
   "execution_count": null,
   "metadata": {},
   "outputs": [],
   "source": [
    "# Camera parameters\n",
    "focal_length = 1000  # pixels\n",
    "principal_point = (320, 240)  # for a 640x480 image\n",
    "aspect_ratio = 1.0\n",
    "skew = 0\n",
    "\n",
    "K = create_camera_matrix(focal_length, principal_point, aspect_ratio, skew)\n",
    "print(\"Camera Intrinsic Matrix:\")\n",
    "print(K)"
   ]
  },
  {
   "cell_type": "markdown",
   "metadata": {},
   "source": [
    "**TODO:** Your camera is mounted in your self-driving car behind the windshield, forward facing. There is a pedestrian located at 10 meters in front of your camera, 5 meters to the left. You can ignore the height of the pedestrian for now (assume a point target and set the height to 0). At which pixel is the pedestrian visible in the image?"
   ]
  },
  {
   "cell_type": "code",
   "execution_count": null,
   "metadata": {},
   "outputs": [],
   "source": [
    "point_3d = np.array([5, 0, 10])  # 3D point in camera coordinates, format: X, Y, Z\n",
    "\n",
    "# YOUR CODE HERE\n",
    "\n",
    "\n"
   ]
  }
 ],
 "metadata": {
  "kernelspec": {
   "display_name": ".venv",
   "language": "python",
   "name": "python3"
  },
  "language_info": {
   "codemirror_mode": {
    "name": "ipython",
    "version": 3
   },
   "file_extension": ".py",
   "mimetype": "text/x-python",
   "name": "python",
   "nbconvert_exporter": "python",
   "pygments_lexer": "ipython3",
   "version": "3.11.7"
  }
 },
 "nbformat": 4,
 "nbformat_minor": 2
}
