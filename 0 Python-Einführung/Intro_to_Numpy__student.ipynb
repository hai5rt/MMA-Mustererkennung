{
 "cells": [
  {
   "metadata": {},
   "cell_type": "markdown",
   "source": "# Numpy -  multidimensional data arrays\n\n---\n\nProf. Dr.-Ing. Antje Muntzinger, Hochschule für Technik Stuttgart\n\nantje.muntzinger@hft-stuttgart.de\n\n---"
  },
  {
   "metadata": {},
   "cell_type": "markdown",
   "source": "This notebook is based on [http://github.com/jrjohansson/scientific-python-lectures](http://github.com/jrjohansson/scientific-python-lectures).\n"
  },
  {
   "metadata": {},
   "cell_type": "markdown",
   "source": "## Introduction"
  },
  {
   "metadata": {},
   "cell_type": "markdown",
   "source": "The `numpy` package (module) is used in almost all numerical computation using Python. It is a package that provide high-performance vector, matrix and higher-dimensional data structures for Python. It is implemented in C and Fortran so when calculations are vectorized (formulated with vectors and matrices), performance is very good. \n\nTo use `numpy` you need to import the module, using for example:"
  },
  {
   "metadata": {
    "jupyter": {
     "outputs_hidden": false
    },
    "trusted": true
   },
   "cell_type": "code",
   "source": "import numpy as np",
   "execution_count": 2,
   "outputs": []
  },
  {
   "metadata": {},
   "cell_type": "markdown",
   "source": "In the `numpy` package the terminology used for vectors, matrices and higher-dimensional data sets is *array*. \n\n"
  },
  {
   "metadata": {},
   "cell_type": "markdown",
   "source": "## Creating `numpy` arrays"
  },
  {
   "metadata": {},
   "cell_type": "markdown",
   "source": "There are a number of ways to initialize new numpy arrays, for example from\n\n* a Python list or tuple\n* using functions that are dedicated to generating numpy arrays, such as `arange`, `linspace`, etc.\n* reading data from files"
  },
  {
   "metadata": {},
   "cell_type": "markdown",
   "source": "### From lists"
  },
  {
   "metadata": {},
   "cell_type": "markdown",
   "source": "For example, to create new vector and matrix arrays from Python lists we can use the `np.array` function."
  },
  {
   "metadata": {
    "jupyter": {
     "outputs_hidden": false
    },
    "trusted": true
   },
   "cell_type": "code",
   "source": "# a vector: the argument to the np.array function is a Python list\nv = np.array([1,2,3,4])\n\nv",
   "execution_count": 3,
   "outputs": [
    {
     "output_type": "execute_result",
     "execution_count": 3,
     "data": {
      "text/plain": "array([1, 2, 3, 4])"
     },
     "metadata": {}
    }
   ]
  },
  {
   "metadata": {
    "jupyter": {
     "outputs_hidden": false
    },
    "trusted": true
   },
   "cell_type": "code",
   "source": "# a matrix: the argument to the np.array function is a nested Python list\nM = np.array([[1, 2], [3, 4]])\n\nM",
   "execution_count": 4,
   "outputs": [
    {
     "output_type": "execute_result",
     "execution_count": 4,
     "data": {
      "text/plain": "array([[1, 2],\n       [3, 4]])"
     },
     "metadata": {}
    }
   ]
  },
  {
   "metadata": {},
   "cell_type": "markdown",
   "source": "The `v` and `M` objects are both of the type `ndarray` that the `numpy` module provides. `ndarray` stands for “n-dimensional array”, n=1 is a vector, n=2 a matrix etc."
  },
  {
   "metadata": {
    "jupyter": {
     "outputs_hidden": false
    },
    "trusted": true
   },
   "cell_type": "code",
   "source": "type(v), type(M)",
   "execution_count": 6,
   "outputs": [
    {
     "output_type": "execute_result",
     "execution_count": 6,
     "data": {
      "text/plain": "(numpy.ndarray, numpy.ndarray)"
     },
     "metadata": {}
    }
   ]
  },
  {
   "metadata": {},
   "cell_type": "markdown",
   "source": "The difference between the `v` and `M` np.arrays is only their shapes. We can get information about the shape of an np.array by using the `ndarray.shape` property."
  },
  {
   "metadata": {
    "jupyter": {
     "outputs_hidden": false
    },
    "trusted": false
   },
   "cell_type": "code",
   "source": "v.shape",
   "execution_count": null,
   "outputs": []
  },
  {
   "metadata": {
    "jupyter": {
     "outputs_hidden": false
    },
    "trusted": false
   },
   "cell_type": "code",
   "source": "M.shape",
   "execution_count": null,
   "outputs": []
  },
  {
   "metadata": {},
   "cell_type": "markdown",
   "source": "The number of elements in the np.array is available through the `ndarray.size` property:"
  },
  {
   "metadata": {
    "jupyter": {
     "outputs_hidden": false
    },
    "trusted": false
   },
   "cell_type": "code",
   "source": "M.size",
   "execution_count": null,
   "outputs": []
  },
  {
   "metadata": {},
   "cell_type": "markdown",
   "source": "Equivalently, we could use the function `numpy.shape` and `numpy.size`"
  },
  {
   "metadata": {
    "jupyter": {
     "outputs_hidden": false
    },
    "trusted": false
   },
   "cell_type": "code",
   "source": "np.shape(M)",
   "execution_count": null,
   "outputs": []
  },
  {
   "metadata": {
    "jupyter": {
     "outputs_hidden": false
    },
    "trusted": false
   },
   "cell_type": "code",
   "source": "np.size(M)",
   "execution_count": null,
   "outputs": []
  },
  {
   "metadata": {},
   "cell_type": "markdown",
   "source": "So far the `numpy.ndarray` looks awfully much like a Python list (or nested list). Why not simply use Python lists for computations instead of creating a new array type? \n\nThere are several reasons:\n\n* Python lists are very general. They can contain any kind of object. They are dynamically typed. They do not support mathematical functions such as matrix and dot multiplications, etc. Implementing such functions for Python lists would not be very efficient because of the dynamic typing.\n* Numpy arrays are **statically typed** and **homogeneous**. The type of the elements is determined when the array is created.\n* Numpy arrays are memory efficient.\n* Because of the static typing, fast implementation of mathematical functions such as multiplication and addition of `numpy` arrays can be implemented in a compiled language (C and Fortran is used).\n\nUsing the `dtype` (data type) property of an `ndarray`, we can see what type the data of an array has:"
  },
  {
   "metadata": {
    "jupyter": {
     "outputs_hidden": false
    },
    "trusted": false
   },
   "cell_type": "code",
   "source": "M.dtype",
   "execution_count": null,
   "outputs": []
  },
  {
   "metadata": {},
   "cell_type": "markdown",
   "source": "We get an error if we try to assign a value of the wrong type to an element in a numpy array:"
  },
  {
   "metadata": {
    "jupyter": {
     "outputs_hidden": false
    },
    "trusted": false
   },
   "cell_type": "code",
   "source": "# M[0,0] = \"hello\" # will raise an error",
   "execution_count": 13,
   "outputs": []
  },
  {
   "metadata": {},
   "cell_type": "markdown",
   "source": "### Using array-generating functions"
  },
  {
   "metadata": {},
   "cell_type": "markdown",
   "source": "For larger arrays it is impractical to initialize the data manually, using explicit python lists. Instead we can use one of the many functions in `numpy` that generate arrays of different forms. Some of the more common are:"
  },
  {
   "metadata": {},
   "cell_type": "markdown",
   "source": "#### arange"
  },
  {
   "metadata": {
    "jupyter": {
     "outputs_hidden": false
    },
    "trusted": false
   },
   "cell_type": "code",
   "source": "# create a range\n\nx = np.arange(0, 10, 1) # arguments: start, stop, step\n\nx",
   "execution_count": null,
   "outputs": []
  },
  {
   "metadata": {
    "jupyter": {
     "outputs_hidden": false
    },
    "trusted": false
   },
   "cell_type": "code",
   "source": "x = np.arange(-1, 1, 0.1)\n\nx",
   "execution_count": null,
   "outputs": []
  },
  {
   "metadata": {},
   "cell_type": "markdown",
   "source": "#### random data"
  },
  {
   "metadata": {
    "jupyter": {
     "outputs_hidden": false
    },
    "trusted": false
   },
   "cell_type": "code",
   "source": "# uniform random numbers in [0,1]\nnp.random.rand(5,5)",
   "execution_count": null,
   "outputs": []
  },
  {
   "metadata": {
    "jupyter": {
     "outputs_hidden": false
    },
    "trusted": false
   },
   "cell_type": "code",
   "source": "# standard normal distributed random numbers\nnp.random.randn(5,5)",
   "execution_count": null,
   "outputs": []
  },
  {
   "metadata": {},
   "cell_type": "markdown",
   "source": "#### diag"
  },
  {
   "metadata": {
    "jupyter": {
     "outputs_hidden": false
    },
    "trusted": false
   },
   "cell_type": "code",
   "source": "# a diagonal matrix\nM = np.diag([1,2,3, 4])\nM",
   "execution_count": null,
   "outputs": []
  },
  {
   "metadata": {},
   "cell_type": "markdown",
   "source": "#### zeros and ones"
  },
  {
   "metadata": {
    "jupyter": {
     "outputs_hidden": false
    },
    "trusted": false
   },
   "cell_type": "code",
   "source": "np.zeros((3,3))",
   "execution_count": null,
   "outputs": []
  },
  {
   "metadata": {
    "jupyter": {
     "outputs_hidden": false
    },
    "trusted": false
   },
   "cell_type": "code",
   "source": "np.ones((3,3))",
   "execution_count": null,
   "outputs": []
  },
  {
   "metadata": {},
   "cell_type": "markdown",
   "source": "## Manipulating arrays"
  },
  {
   "metadata": {},
   "cell_type": "markdown",
   "source": "### Indexing"
  },
  {
   "metadata": {},
   "cell_type": "markdown",
   "source": "We can index elements in an np.array using square brackets and indices:"
  },
  {
   "metadata": {
    "jupyter": {
     "outputs_hidden": false
    },
    "trusted": false
   },
   "cell_type": "code",
   "source": "# v is a vector, and has only one dimension, taking one index\nv[0]",
   "execution_count": null,
   "outputs": []
  },
  {
   "metadata": {
    "jupyter": {
     "outputs_hidden": false
    },
    "trusted": false
   },
   "cell_type": "code",
   "source": "# M is a matrix, or a 2 dimensional np.array, taking two indices \nM[1,1]",
   "execution_count": null,
   "outputs": []
  },
  {
   "metadata": {},
   "cell_type": "markdown",
   "source": "If we omit an index of a multidimensional array it returns the whole row (or, in general, a N-1 dimensional array) "
  },
  {
   "metadata": {
    "jupyter": {
     "outputs_hidden": false
    },
    "trusted": false
   },
   "cell_type": "code",
   "source": "M",
   "execution_count": null,
   "outputs": []
  },
  {
   "metadata": {
    "jupyter": {
     "outputs_hidden": false
    },
    "trusted": false
   },
   "cell_type": "code",
   "source": "M[1]",
   "execution_count": null,
   "outputs": []
  },
  {
   "metadata": {},
   "cell_type": "markdown",
   "source": "The same thing can be achieved with using `:` instead of an index: "
  },
  {
   "metadata": {
    "jupyter": {
     "outputs_hidden": false
    },
    "trusted": false
   },
   "cell_type": "code",
   "source": "M[1,:] # row 1",
   "execution_count": null,
   "outputs": []
  },
  {
   "metadata": {
    "jupyter": {
     "outputs_hidden": false
    },
    "trusted": false
   },
   "cell_type": "code",
   "source": "M[:,1] # column 1",
   "execution_count": null,
   "outputs": []
  },
  {
   "metadata": {},
   "cell_type": "markdown",
   "source": "We can assign new values to elements in an array using indexing:"
  },
  {
   "metadata": {
    "jupyter": {
     "outputs_hidden": false
    },
    "trusted": false
   },
   "cell_type": "code",
   "source": "M[0,0] = 7",
   "execution_count": 27,
   "outputs": []
  },
  {
   "metadata": {
    "jupyter": {
     "outputs_hidden": false
    },
    "trusted": false
   },
   "cell_type": "code",
   "source": "M",
   "execution_count": null,
   "outputs": []
  },
  {
   "metadata": {
    "jupyter": {
     "outputs_hidden": false
    },
    "trusted": false
   },
   "cell_type": "code",
   "source": "# also works for rows and columns\nM[1,:] = 0\nM[:,2] = -1",
   "execution_count": 29,
   "outputs": []
  },
  {
   "metadata": {
    "jupyter": {
     "outputs_hidden": false
    },
    "trusted": false
   },
   "cell_type": "code",
   "source": "M",
   "execution_count": null,
   "outputs": []
  },
  {
   "metadata": {},
   "cell_type": "markdown",
   "source": "### Index slicing"
  },
  {
   "metadata": {},
   "cell_type": "markdown",
   "source": "Index slicing is the technical name for the syntax `M[lower:upper:step]` to extract part of an array:"
  },
  {
   "metadata": {
    "jupyter": {
     "outputs_hidden": false
    },
    "trusted": false
   },
   "cell_type": "code",
   "source": "A = np.array([1,2,3,4,5])\nA",
   "execution_count": null,
   "outputs": []
  },
  {
   "metadata": {
    "jupyter": {
     "outputs_hidden": false
    },
    "trusted": false
   },
   "cell_type": "code",
   "source": "A[1:3]",
   "execution_count": null,
   "outputs": []
  },
  {
   "metadata": {},
   "cell_type": "markdown",
   "source": "We can omit any of the three parameters in `M[lower:upper:step]`:"
  },
  {
   "metadata": {
    "jupyter": {
     "outputs_hidden": false
    },
    "trusted": false
   },
   "cell_type": "code",
   "source": "A[::] # lower, upper, step all take the default values",
   "execution_count": null,
   "outputs": []
  },
  {
   "metadata": {
    "jupyter": {
     "outputs_hidden": false
    },
    "trusted": false
   },
   "cell_type": "code",
   "source": "A[::2] # step is 2, lower and upper defaults to the beginning and end of the array",
   "execution_count": null,
   "outputs": []
  },
  {
   "metadata": {
    "jupyter": {
     "outputs_hidden": false
    },
    "trusted": false
   },
   "cell_type": "code",
   "source": "A[:3] # first three elements",
   "execution_count": null,
   "outputs": []
  },
  {
   "metadata": {
    "jupyter": {
     "outputs_hidden": false
    },
    "trusted": false
   },
   "cell_type": "code",
   "source": "A[3:] # elements from index 3",
   "execution_count": null,
   "outputs": []
  },
  {
   "metadata": {},
   "cell_type": "markdown",
   "source": "Negative indices counts from the end of the np.array (positive index from the beginning):"
  },
  {
   "metadata": {
    "jupyter": {
     "outputs_hidden": false
    },
    "trusted": false
   },
   "cell_type": "code",
   "source": "A = np.array([1,2,3,4,5])",
   "execution_count": 37,
   "outputs": []
  },
  {
   "metadata": {
    "jupyter": {
     "outputs_hidden": false
    },
    "trusted": false
   },
   "cell_type": "code",
   "source": "A[-1] # the last element in the array",
   "execution_count": null,
   "outputs": []
  },
  {
   "metadata": {
    "jupyter": {
     "outputs_hidden": false
    },
    "trusted": false
   },
   "cell_type": "code",
   "source": "A[-3:] # the last three elements",
   "execution_count": null,
   "outputs": []
  },
  {
   "metadata": {},
   "cell_type": "markdown",
   "source": "Index slicing works exactly the same way for multidimensional arrays:"
  },
  {
   "metadata": {
    "jupyter": {
     "outputs_hidden": false
    },
    "trusted": false
   },
   "cell_type": "code",
   "source": "A = np.array([[n+m*10 for n in range(5)] for m in range(5)])\n\nA",
   "execution_count": null,
   "outputs": []
  },
  {
   "metadata": {
    "jupyter": {
     "outputs_hidden": false
    },
    "trusted": false
   },
   "cell_type": "code",
   "source": "# a block from the original array\nA[1:4, 1:4]",
   "execution_count": null,
   "outputs": []
  },
  {
   "metadata": {
    "jupyter": {
     "outputs_hidden": false
    },
    "trusted": false
   },
   "cell_type": "code",
   "source": "# strides\nA[::2, ::2]",
   "execution_count": null,
   "outputs": []
  },
  {
   "metadata": {},
   "cell_type": "markdown",
   "source": "**TODO 1**: Create a 1D NumPy array with numbers 0 to 9. Then, extract the first three elements, the last two elements, and every second element of the array."
  },
  {
   "metadata": {
    "trusted": false
   },
   "cell_type": "code",
   "source": "# YOUR CODE GOES HERE\n\n\n",
   "execution_count": null,
   "outputs": []
  },
  {
   "metadata": {},
   "cell_type": "markdown",
   "source": "**TODO 2**: 3d arrays work just like 3d arrays, but with an additional index. You can think of a 3D array as a batch of matrices, or a 3D cuboid. Slice the given 3D array, using the slicing techniques used above: Extract a 2x2x2 sub-array from the original array, and print the result."
  },
  {
   "metadata": {
    "trusted": false
   },
   "cell_type": "code",
   "source": "# Given 3D numpy array\narray_3d = np.array([[[ 0,  1,  2],\n                      [ 3,  4,  5],\n                      [ 6,  7,  8]],\n                     \n                     [[ 9, 10, 11],\n                      [12, 13, 14],\n                      [15, 16, 17]],\n                     \n                     [[18, 19, 20],\n                      [21, 22, 23],\n                      [24, 25, 26]]])\n\n# YOUR CODE GOES HERE\n\n\n",
   "execution_count": null,
   "outputs": []
  },
  {
   "metadata": {},
   "cell_type": "markdown",
   "source": "## Linear algebra"
  },
  {
   "metadata": {},
   "cell_type": "markdown",
   "source": "Vectorizing code is the key to writing efficient numerical calculation with Python/Numpy. That means that as much as possible of a program should be formulated in terms of matrix and vector operations, like matrix-matrix multiplication."
  },
  {
   "metadata": {},
   "cell_type": "markdown",
   "source": "### Scalar-array operations"
  },
  {
   "metadata": {},
   "cell_type": "markdown",
   "source": "We can use the usual arithmetic operators to multiply, add, subtract, and divide arrays with scalar numbers."
  },
  {
   "metadata": {
    "jupyter": {
     "outputs_hidden": false
    },
    "trusted": false
   },
   "cell_type": "code",
   "source": "v1 = np.arange(0, 5)\nv1",
   "execution_count": null,
   "outputs": []
  },
  {
   "metadata": {
    "jupyter": {
     "outputs_hidden": false
    },
    "trusted": false
   },
   "cell_type": "code",
   "source": "v1 * 2",
   "execution_count": null,
   "outputs": []
  },
  {
   "metadata": {
    "jupyter": {
     "outputs_hidden": false
    },
    "trusted": false
   },
   "cell_type": "code",
   "source": "v1 + 2",
   "execution_count": null,
   "outputs": []
  },
  {
   "metadata": {
    "jupyter": {
     "outputs_hidden": false
    },
    "trusted": false
   },
   "cell_type": "code",
   "source": "A * 2, A + 2",
   "execution_count": null,
   "outputs": []
  },
  {
   "metadata": {},
   "cell_type": "markdown",
   "source": "### Element-wise array-array operations"
  },
  {
   "metadata": {},
   "cell_type": "markdown",
   "source": "When we add, subtract, multiply and divide np.arrays with each other, the default behaviour is **element-wise** operations:"
  },
  {
   "metadata": {
    "trusted": false
   },
   "cell_type": "code",
   "source": "A",
   "execution_count": null,
   "outputs": []
  },
  {
   "metadata": {
    "jupyter": {
     "outputs_hidden": false
    },
    "trusted": false
   },
   "cell_type": "code",
   "source": "A * A # element-wise multiplication",
   "execution_count": null,
   "outputs": []
  },
  {
   "metadata": {
    "trusted": false
   },
   "cell_type": "code",
   "source": "v1",
   "execution_count": null,
   "outputs": []
  },
  {
   "metadata": {
    "jupyter": {
     "outputs_hidden": false
    },
    "trusted": false
   },
   "cell_type": "code",
   "source": "v1 * v1",
   "execution_count": null,
   "outputs": []
  },
  {
   "metadata": {},
   "cell_type": "markdown",
   "source": "**TODO 3**: Create two 1D NumPy arrays, each with 5 elements. Perform element-wise addition, subtraction, and multiplication of these arrays."
  },
  {
   "metadata": {
    "trusted": false
   },
   "cell_type": "code",
   "source": "# YOUR CODE GOES HERE\n\n\n",
   "execution_count": null,
   "outputs": []
  },
  {
   "metadata": {},
   "cell_type": "markdown",
   "source": "### Matrix algebra"
  },
  {
   "metadata": {},
   "cell_type": "markdown",
   "source": "What about matrix multiplication? There are two ways. We can either use the `dot` function, which applies a matrix-matrix, matrix-vector, or inner vector multiplication to its two arguments: "
  },
  {
   "metadata": {
    "jupyter": {
     "outputs_hidden": false
    },
    "trusted": false
   },
   "cell_type": "code",
   "source": "np.dot(A, A)",
   "execution_count": null,
   "outputs": []
  },
  {
   "metadata": {
    "jupyter": {
     "outputs_hidden": false
    },
    "trusted": false
   },
   "cell_type": "code",
   "source": "np.dot(A, v1)",
   "execution_count": null,
   "outputs": []
  },
  {
   "metadata": {
    "jupyter": {
     "outputs_hidden": false
    },
    "trusted": false
   },
   "cell_type": "code",
   "source": "np.dot(v1, v1)",
   "execution_count": null,
   "outputs": []
  },
  {
   "metadata": {},
   "cell_type": "markdown",
   "source": "Equivalently, we can use the `matmul` notation:"
  },
  {
   "metadata": {
    "trusted": false
   },
   "cell_type": "code",
   "source": "np.matmul(A, A)",
   "execution_count": null,
   "outputs": []
  },
  {
   "metadata": {},
   "cell_type": "markdown",
   "source": "Here is a more compact notation of matrix multiplication using the `@` symbol:"
  },
  {
   "metadata": {
    "trusted": false
   },
   "cell_type": "code",
   "source": "A @ A",
   "execution_count": null,
   "outputs": []
  },
  {
   "metadata": {
    "trusted": false
   },
   "cell_type": "code",
   "source": "A @ v1",
   "execution_count": null,
   "outputs": []
  },
  {
   "metadata": {},
   "cell_type": "markdown",
   "source": "Alternatively, we can cast the array objects to the type `matrix`. This changes the behavior of the standard arithmetic operators `+, -, *` to use matrix algebra."
  },
  {
   "metadata": {
    "jupyter": {
     "outputs_hidden": false
    },
    "trusted": false
   },
   "cell_type": "code",
   "source": "M = np.matrix(A)\nv = np.matrix(v1).T # make it a column vector",
   "execution_count": 59,
   "outputs": []
  },
  {
   "metadata": {
    "jupyter": {
     "outputs_hidden": false
    },
    "trusted": false
   },
   "cell_type": "code",
   "source": "v",
   "execution_count": null,
   "outputs": []
  },
  {
   "metadata": {
    "jupyter": {
     "outputs_hidden": false
    },
    "trusted": false
   },
   "cell_type": "code",
   "source": "M * M",
   "execution_count": null,
   "outputs": []
  },
  {
   "metadata": {
    "jupyter": {
     "outputs_hidden": false
    },
    "trusted": false
   },
   "cell_type": "code",
   "source": "M * v",
   "execution_count": null,
   "outputs": []
  },
  {
   "metadata": {
    "jupyter": {
     "outputs_hidden": false
    },
    "trusted": false
   },
   "cell_type": "code",
   "source": "# inner product\nv.T * v",
   "execution_count": null,
   "outputs": []
  },
  {
   "metadata": {
    "jupyter": {
     "outputs_hidden": false
    },
    "trusted": false
   },
   "cell_type": "code",
   "source": "# with matrix objects, standard matrix algebra applies\nv + M*v",
   "execution_count": null,
   "outputs": []
  },
  {
   "metadata": {},
   "cell_type": "markdown",
   "source": "If we try to add, subtract or multiply objects with incompatible shapes we get an error:"
  },
  {
   "metadata": {
    "jupyter": {
     "outputs_hidden": false
    },
    "trusted": false
   },
   "cell_type": "code",
   "source": "v = np.matrix([1,2,3,4,5,6]).T",
   "execution_count": 65,
   "outputs": []
  },
  {
   "metadata": {
    "jupyter": {
     "outputs_hidden": false
    },
    "trusted": false
   },
   "cell_type": "code",
   "source": "np.shape(M), np.shape(v)",
   "execution_count": null,
   "outputs": []
  },
  {
   "metadata": {
    "trusted": false
   },
   "cell_type": "code",
   "source": "# M * v # will raise an error",
   "execution_count": 67,
   "outputs": []
  },
  {
   "metadata": {},
   "cell_type": "markdown",
   "source": "**TODO 4:** Apply matrix multiplication in 4 different ways to the matrices A and B given below."
  },
  {
   "metadata": {
    "jupyter": {
     "outputs_hidden": false
    },
    "trusted": false
   },
   "cell_type": "code",
   "source": "# Given matrices\nA = np.array([[1, 2, 3], [4, 5, 6]])\nB = np.array([[1], [1], [1]])\n\n# YOUR CODE GOES HERE\n\n\n",
   "execution_count": null,
   "outputs": []
  },
  {
   "metadata": {},
   "cell_type": "markdown",
   "source": "### Calculations with higher-dimensional data"
  },
  {
   "metadata": {},
   "cell_type": "markdown",
   "source": "When functions such as `min`, `max`, etc. are applied to a multidimensional np.arrays, it is sometimes useful to apply the calculation to the entire np.array, and sometimes only on a row or column basis. Using the `axis` argument we can specify how these functions should behave: "
  },
  {
   "metadata": {
    "jupyter": {
     "outputs_hidden": false
    },
    "trusted": false
   },
   "cell_type": "code",
   "source": "m = np.random.rand(3,3)\nprint(m)",
   "execution_count": null,
   "outputs": []
  },
  {
   "metadata": {
    "jupyter": {
     "outputs_hidden": false
    },
    "trusted": false
   },
   "cell_type": "code",
   "source": "# global max\nm.max()",
   "execution_count": null,
   "outputs": []
  },
  {
   "metadata": {
    "jupyter": {
     "outputs_hidden": false
    },
    "trusted": false
   },
   "cell_type": "code",
   "source": "# max in each column\nm.max(axis=0)",
   "execution_count": null,
   "outputs": []
  },
  {
   "metadata": {
    "jupyter": {
     "outputs_hidden": false
    },
    "trusted": false
   },
   "cell_type": "code",
   "source": "# max in each row\nm.max(axis=1)",
   "execution_count": null,
   "outputs": []
  },
  {
   "metadata": {
    "trusted": false
   },
   "cell_type": "code",
   "source": "# mean value in each row\nm.mean(axis=1)",
   "execution_count": null,
   "outputs": []
  },
  {
   "metadata": {},
   "cell_type": "markdown",
   "source": "Many other functions and methods in the `array` and `matrix` classes accept the same (optional) `axis` keyword argument.\n"
  },
  {
   "metadata": {},
   "cell_type": "markdown",
   "source": "**TODO 5**: Create a 1D NumPy array with 10 random integers between 1 and 100. Find and print the minimum, maximum, sum, and mean of the array."
  },
  {
   "metadata": {
    "trusted": false
   },
   "cell_type": "code",
   "source": "# YOUR CODE GOES HERE\n\n\n",
   "execution_count": null,
   "outputs": []
  },
  {
   "metadata": {},
   "cell_type": "markdown",
   "source": "## Reshaping and resizing np.arrays"
  },
  {
   "metadata": {},
   "cell_type": "markdown",
   "source": "The shape of an Numpy np.array can be modified without copying the underlying data, which makes it a fast operation even for large np.arrays."
  },
  {
   "metadata": {
    "jupyter": {
     "outputs_hidden": false
    },
    "trusted": false
   },
   "cell_type": "code",
   "source": "A",
   "execution_count": null,
   "outputs": []
  },
  {
   "metadata": {
    "jupyter": {
     "outputs_hidden": false
    },
    "trusted": false
   },
   "cell_type": "code",
   "source": "n, m = A.shape",
   "execution_count": 75,
   "outputs": []
  },
  {
   "metadata": {
    "jupyter": {
     "outputs_hidden": false
    },
    "trusted": false
   },
   "cell_type": "code",
   "source": "B = A.reshape((1,n*m))\nB",
   "execution_count": null,
   "outputs": []
  },
  {
   "metadata": {
    "jupyter": {
     "outputs_hidden": false
    },
    "trusted": false
   },
   "cell_type": "code",
   "source": "B[0,0:5] = 5 # modify the np.array\n\nB",
   "execution_count": null,
   "outputs": []
  },
  {
   "metadata": {
    "jupyter": {
     "outputs_hidden": false
    },
    "trusted": false
   },
   "cell_type": "code",
   "source": "A # and the original variable is also changed. B is only a different view of the same data",
   "execution_count": null,
   "outputs": []
  },
  {
   "metadata": {},
   "cell_type": "markdown",
   "source": "We can also use the function `flatten` to make a higher-dimensional np.array into a vector. But this function creates a copy of the data."
  },
  {
   "metadata": {
    "jupyter": {
     "outputs_hidden": false
    },
    "trusted": false
   },
   "cell_type": "code",
   "source": "B = A.flatten()\n\nB",
   "execution_count": null,
   "outputs": []
  },
  {
   "metadata": {
    "jupyter": {
     "outputs_hidden": false
    },
    "trusted": false
   },
   "cell_type": "code",
   "source": "B[0:5] = 10\n\nB",
   "execution_count": null,
   "outputs": []
  },
  {
   "metadata": {
    "jupyter": {
     "outputs_hidden": false
    },
    "trusted": false
   },
   "cell_type": "code",
   "source": "A # now A has not changed, because B's data is a copy of A's, not referring to the same data",
   "execution_count": null,
   "outputs": []
  },
  {
   "metadata": {},
   "cell_type": "markdown",
   "source": "Numpy allows to give one of the new dimension parameters as -1, indicating that this dimension has to be adapted such that 'The new shape should be compatible with the original shape'. Here are some examples:"
  },
  {
   "metadata": {
    "trusted": false
   },
   "cell_type": "code",
   "source": "a = np.array([[1, 2], [3, 4]])\na",
   "execution_count": null,
   "outputs": []
  },
  {
   "metadata": {
    "trusted": false
   },
   "cell_type": "code",
   "source": "a.shape",
   "execution_count": null,
   "outputs": []
  },
  {
   "metadata": {
    "trusted": false
   },
   "cell_type": "code",
   "source": "b = a.reshape(1, -1) # the reshaped np.array is 2-dimensional and has 1 row\nb",
   "execution_count": null,
   "outputs": []
  },
  {
   "metadata": {
    "trusted": false
   },
   "cell_type": "code",
   "source": "b.shape",
   "execution_count": null,
   "outputs": []
  },
  {
   "metadata": {
    "trusted": false
   },
   "cell_type": "code",
   "source": "c = a.reshape(-1) # the reshaped np.array is 1-dimensional (note the single square brackets in the output indicating a 1d np.array)\nc",
   "execution_count": null,
   "outputs": []
  },
  {
   "metadata": {
    "trusted": false
   },
   "cell_type": "code",
   "source": "c.shape",
   "execution_count": null,
   "outputs": []
  },
  {
   "metadata": {
    "trusted": false
   },
   "cell_type": "code",
   "source": "d = a.reshape(-1, 1) # the reshaped np.array is 2-dimensional and has 1 column\nd",
   "execution_count": null,
   "outputs": []
  },
  {
   "metadata": {
    "trusted": false
   },
   "cell_type": "code",
   "source": "d.shape",
   "execution_count": null,
   "outputs": []
  },
  {
   "metadata": {
    "trusted": false
   },
   "cell_type": "code",
   "source": "# e = a.reshape(-1, -1) # this does not work",
   "execution_count": 90,
   "outputs": []
  },
  {
   "metadata": {},
   "cell_type": "markdown",
   "source": "**TODO 6:** Flatten the 3D array `array_3d` into a 1D array. Then, reshape the 1D array back to a 2D array with 3 rows and 4 columns. Print the 1D and 2D arrays."
  },
  {
   "metadata": {
    "trusted": false
   },
   "cell_type": "code",
   "source": "# Given 3D array\narray_3d = np.array([[[ 0,  1],\n                      [ 2,  3]],\n\n                     [[ 4,  5],\n                      [ 6,  7]],\n\n                     [[ 8,  9],\n                      [10, 11]]])\n\n# YOUR CODE GOES HERE\n\n\n\n",
   "execution_count": null,
   "outputs": []
  },
  {
   "metadata": {},
   "cell_type": "markdown",
   "source": "## Copy and \"deep copy\""
  },
  {
   "metadata": {},
   "cell_type": "markdown",
   "source": "To achieve high performance, assignments in Python usually do not copy the underlying objects. This is important for example when objects are passed between functions, to avoid an excessive amount of memory copying when it is not necessary (technical term: pass by reference). "
  },
  {
   "metadata": {
    "jupyter": {
     "outputs_hidden": false
    },
    "trusted": false
   },
   "cell_type": "code",
   "source": "A = np.array([[1, 2], [3, 4]])\n\nA",
   "execution_count": null,
   "outputs": []
  },
  {
   "metadata": {
    "jupyter": {
     "outputs_hidden": false
    },
    "trusted": false
   },
   "cell_type": "code",
   "source": "# now B is referring to the same array data as A \nB = A ",
   "execution_count": 93,
   "outputs": []
  },
  {
   "metadata": {
    "jupyter": {
     "outputs_hidden": false
    },
    "trusted": false
   },
   "cell_type": "code",
   "source": "# changing B affects A\nB[0,0] = 10\n\nB",
   "execution_count": null,
   "outputs": []
  },
  {
   "metadata": {
    "jupyter": {
     "outputs_hidden": false
    },
    "trusted": false
   },
   "cell_type": "code",
   "source": "A",
   "execution_count": null,
   "outputs": []
  },
  {
   "metadata": {},
   "cell_type": "markdown",
   "source": "If we want to avoid this behavior, so that when we get a new completely independent object `B` copied from `A`, then we need to do a so-called \"deep copy\" using the function `copy`:"
  },
  {
   "metadata": {
    "jupyter": {
     "outputs_hidden": false
    },
    "trusted": false
   },
   "cell_type": "code",
   "source": "B = np.copy(A)",
   "execution_count": 96,
   "outputs": []
  },
  {
   "metadata": {
    "jupyter": {
     "outputs_hidden": false
    },
    "trusted": false
   },
   "cell_type": "code",
   "source": "# now, if we modify B, A is not affected\nB[0,0] = -5\n\nB",
   "execution_count": null,
   "outputs": []
  },
  {
   "metadata": {
    "jupyter": {
     "outputs_hidden": false
    },
    "trusted": false
   },
   "cell_type": "code",
   "source": "A",
   "execution_count": null,
   "outputs": []
  },
  {
   "metadata": {},
   "cell_type": "markdown",
   "source": "## Iterating over np.array elements"
  },
  {
   "metadata": {},
   "cell_type": "markdown",
   "source": "Generally, we want to avoid iterating over the elements of np.arrays whenever we can (at all costs). The reason is that in a interpreted language like Python (or MATLAB), iterations are really slow compared to vectorized operations. \n\nHowever, sometimes iterations are unavoidable. For such cases, the Python `for` loop is the most convenient way to iterate over an np.array:"
  },
  {
   "metadata": {
    "jupyter": {
     "outputs_hidden": false
    },
    "trusted": false
   },
   "cell_type": "code",
   "source": "v = np.array([1,2,3,4])\n\nfor element in v:\n    print(element)",
   "execution_count": null,
   "outputs": []
  },
  {
   "metadata": {
    "jupyter": {
     "outputs_hidden": false
    },
    "trusted": false
   },
   "cell_type": "code",
   "source": "M = np.array([[1,2], [3,4]])\n\nfor row in M:\n    print(\"row\", row)\n    \n    for element in row:\n        print(element)",
   "execution_count": null,
   "outputs": []
  },
  {
   "metadata": {},
   "cell_type": "markdown",
   "source": "When we need to iterate over each element of an np.array and modify its elements, it is convenient to use the `enumerate` function to obtain both the element and its index in the `for` loop: "
  },
  {
   "metadata": {
    "jupyter": {
     "outputs_hidden": false
    },
    "trusted": false
   },
   "cell_type": "code",
   "source": "for row_idx, row in enumerate(M):\n    print(\"row_idx\", row_idx, \"row\", row)\n    \n    for col_idx, element in enumerate(row):\n        print(\"col_idx\", col_idx, \"element\", element)\n       \n        # update the matrix M: square each element\n        M[row_idx, col_idx] = element ** 2",
   "execution_count": null,
   "outputs": []
  },
  {
   "metadata": {
    "jupyter": {
     "outputs_hidden": false
    },
    "trusted": false
   },
   "cell_type": "code",
   "source": "# each element in M is now squared\nM",
   "execution_count": null,
   "outputs": []
  },
  {
   "metadata": {},
   "cell_type": "markdown",
   "source": "## Further reading"
  },
  {
   "metadata": {},
   "cell_type": "markdown",
   "source": "* http://numpy.scipy.org\n* http://scipy.org/Tentative_NumPy_Tutorial\n* http://scipy.org/NumPy_for_Matlab_Users - A Numpy guide for MATLAB users."
  }
 ],
 "metadata": {
  "kernelspec": {
   "name": "python3",
   "display_name": "Python 3",
   "language": "python"
  },
  "language_info": {
   "name": "python",
   "version": "3.10.4",
   "mimetype": "text/x-python",
   "codemirror_mode": {
    "name": "ipython",
    "version": 3
   },
   "pygments_lexer": "ipython3",
   "nbconvert_exporter": "python",
   "file_extension": ".py"
  }
 },
 "nbformat": 4,
 "nbformat_minor": 4
}