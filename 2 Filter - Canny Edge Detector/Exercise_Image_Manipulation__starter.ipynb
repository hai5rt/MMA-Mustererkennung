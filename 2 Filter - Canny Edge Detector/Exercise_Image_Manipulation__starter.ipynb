{
 "cells": [
  {
   "metadata": {},
   "cell_type": "markdown",
   "source": "# Exercise: Image Manipulation in OpenCV\n\n---\n\nProf. Dr.-Ing. Antje Muntzinger, Hochschule für Technik Stuttgart\n\nantje.muntzinger@hft-stuttgart.de\n\n---\n\nIn this notebook, we practice some basic image manipulation techniques in OpenCV. These are the foundation of later computer vision applications. Your tasks are the following: \n\n- Examine the image shape\n- Split the three color channels\n- Flip the image horizontally and vertically\n- Draw on the image\n- Resize the image"
  },
  {
   "metadata": {
    "trusted": false
   },
   "cell_type": "code",
   "source": "# imports\nimport cv2\nimport numpy as np\nimport matplotlib.pyplot as plt\n%matplotlib inline",
   "execution_count": 1,
   "outputs": []
  },
  {
   "metadata": {},
   "cell_type": "markdown",
   "source": "## 1. Data Acquision\n\n**TODO:** Make sure the image below is loaded and displayed correctly. You don't have to change the code, but make sure your image is correctly named and placed in a subfolder called `images` of the working directory."
  },
  {
   "metadata": {
    "trusted": false
   },
   "cell_type": "code",
   "source": "# load image\ninput_img = cv2.imread ('../images/san_francisco_bay.jpg') \n\n# convert image to RGB and grayscale (matplotlib uses RGB, OpenCV uses BGR)\nimg_RGB = cv2.cvtColor(input_img, cv2.COLOR_BGR2RGB)\nimg_gray = cv2.cvtColor(input_img, cv2.COLOR_BGR2GRAY)",
   "execution_count": null,
   "outputs": []
  },
  {
   "metadata": {
    "trusted": false
   },
   "cell_type": "code",
   "source": "# display image\nplt.imshow(img_RGB)\nplt.title(' San Francisco Bay')",
   "execution_count": null,
   "outputs": []
  },
  {
   "metadata": {},
   "cell_type": "markdown",
   "source": "## 2. Image Manipulation and Preprocessing"
  },
  {
   "metadata": {},
   "cell_type": "markdown",
   "source": "**TODO**: Find out the size of the image using the `shape` attribute of the image array and print it. Note that images in OpenCV are basically numpy arrays. How do you interpret the output?"
  },
  {
   "metadata": {
    "trusted": false
   },
   "cell_type": "code",
   "source": "# YOUR CODE GOES HERE",
   "execution_count": 4,
   "outputs": []
  },
  {
   "metadata": {},
   "cell_type": "markdown",
   "source": "**YOUR ANSWER**:"
  },
  {
   "metadata": {},
   "cell_type": "markdown",
   "source": "**TODO**: Split the image in the three color channels and plot them separately in matplotlib. You can use OpenCV's split function (see for example here: https://www.geeksforgeeks.org/splitting-and-merging-channels-with-python-opencv/). Can you see from the images which color channel is which?\n\n**HINT:** Use `cmap = 'gray'` in `imshow` to display the channels correctly as grayscale images. In case you want to plot several images without `plt.subplots`, use `plt.show()` after each `plt.imshow` command (otherwise only the last image is displayed)."
  },
  {
   "metadata": {
    "trusted": false
   },
   "cell_type": "code",
   "source": "# YOUR CODE GOES HERE",
   "execution_count": 5,
   "outputs": []
  },
  {
   "metadata": {
    "trusted": false
   },
   "cell_type": "code",
   "source": "# we can make a cutout to work with a smaller part of the image (slicing)\ncutout_RGB = img_RGB[0:600, 0:1600]\ncutout_gray = cv2.cvtColor(cutout_RGB, cv2.COLOR_RGB2GRAY)\nplt.imshow(cutout_gray, cmap='gray')",
   "execution_count": null,
   "outputs": []
  },
  {
   "metadata": {},
   "cell_type": "markdown",
   "source": "**TODO**: Flip the image horizontally and vertically and plot the results! Check out OpenCV's flip function for this task (see for example here: https://www.geeksforgeeks.org/python-opencv-cv2-flip-method/)."
  },
  {
   "metadata": {
    "trusted": false
   },
   "cell_type": "code",
   "source": "# YOUR CODE GOES HERE",
   "execution_count": 7,
   "outputs": []
  },
  {
   "metadata": {},
   "cell_type": "markdown",
   "source": "**TODO**: Draw a red rectangle around the biggest island (Angel Island) in the original image. Check the OpenCV documentation for a suitable function to use! Note that drawing on the image changes the original image, so make a copy first.\n\n**HINT:** You can use several lines as seen in the demo, but maybe there is a simpler function?"
  },
  {
   "metadata": {
    "trusted": false
   },
   "cell_type": "code",
   "source": "# YOUR CODE GOES HERE",
   "execution_count": 8,
   "outputs": []
  },
  {
   "metadata": {},
   "cell_type": "markdown",
   "source": "**TODO**: Resize the result to 400x400 pixels. "
  },
  {
   "metadata": {
    "trusted": false
   },
   "cell_type": "code",
   "source": "# YOUR CODE GOES HERE",
   "execution_count": 9,
   "outputs": []
  }
 ],
 "metadata": {
  "kernelspec": {
   "name": "python3",
   "display_name": "Python 3",
   "language": "python"
  },
  "language_info": {
   "name": "python",
   "version": "3.10.4",
   "mimetype": "text/x-python",
   "codemirror_mode": {
    "name": "ipython",
    "version": 3
   },
   "pygments_lexer": "ipython3",
   "nbconvert_exporter": "python",
   "file_extension": ".py"
  }
 },
 "nbformat": 4,
 "nbformat_minor": 2
}