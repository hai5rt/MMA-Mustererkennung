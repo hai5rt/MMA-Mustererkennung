{
 "cells": [
  {
   "metadata": {},
   "cell_type": "markdown",
   "source": "# Creating a Custom Filter\n\n---\n\nProf. Dr.-Ing. Antje Muntzinger, Hochschule für Technik Stuttgart\n\nantje.muntzinger@hft-stuttgart.de\n\n---\n\nThis notebook is based on Udacity's *Deep Learning Nanodegree*."
  },
  {
   "metadata": {},
   "cell_type": "markdown",
   "source": "### Import resources and display image"
  },
  {
   "metadata": {
    "trusted": false
   },
   "cell_type": "code",
   "source": "import matplotlib.pyplot as plt\nimport matplotlib.image as mpimg\n\nimport cv2\nimport numpy as np\n\n%matplotlib inline\n\n# Read in the image\nimage = mpimg.imread('../images/curved_lane.jpg')\n\nplt.imshow(image)",
   "execution_count": null,
   "outputs": []
  },
  {
   "metadata": {},
   "cell_type": "markdown",
   "source": "### Convert the image to grayscale"
  },
  {
   "metadata": {
    "trusted": false
   },
   "cell_type": "code",
   "source": "# Convert to grayscale for filtering\ngray = cv2.cvtColor(image, cv2.COLOR_RGB2GRAY)\n\nplt.imshow(gray, cmap='gray')",
   "execution_count": null,
   "outputs": []
  },
  {
   "metadata": {},
   "cell_type": "markdown",
   "source": "### Create a custom kernel\n\nBelow, you've been given one common type of edge detection filter: a Sobel operator.\n\nThe Sobel filter is very commonly used in edge detection and in finding patterns in intensity in an image. Applying a Sobel filter to an image is a way of **taking (an approximation) of the derivative of the image** in the x or y direction, separately. The operators look as follows.\n\n<img src=\"../images/sobel.png\" width=200 height=200>\n\n**TODO:** It's up to you to create a Sobel x operator and apply it to the given image. Plot the result. Can you see from the resulting image which is the x-derivative and which the y-derivative?\n"
  },
  {
   "metadata": {
    "trusted": false
   },
   "cell_type": "code",
   "source": "# Create a custom kernel\n\n# 3x3 array for edge detection\nsobel_y = np.array([[ -1, -2, -1], \n                   [ 0, 0, 0], \n                   [ 1, 2, 1]])\n\n# Filter the image using filter2D, which has inputs: (grayscale image, bit-depth, kernel)  \nfiltered_image = cv2.filter2D(gray, -1, sobel_y)\n\nplt.imshow(filtered_image, cmap='gray')\nplt.show()\n\n\n\n## TODO: Create and apply a Sobel x operator\n",
   "execution_count": null,
   "outputs": []
  },
  {
   "metadata": {},
   "cell_type": "markdown",
   "source": "**TODO:** For a challenge, see if you can put the image through a series of filters: first one that blurs the image (takes an average of pixels), and then one that detects the edges."
  },
  {
   "metadata": {
    "trusted": false
   },
   "cell_type": "code",
   "source": "# YOUR CODE HERE\n",
   "execution_count": null,
   "outputs": []
  },
  {
   "metadata": {},
   "cell_type": "markdown",
   "source": "### Test out other filters!\n\nYou're encouraged to create other kinds of filters and apply them to see what happens! As an **optional exercise**, try the following:\n* Create a 5x5 or 7x7 filter\n* Apply your filters to the other images.\n\n"
  }
 ],
 "metadata": {
  "anaconda-cloud": {},
  "kernelspec": {
   "name": "python3",
   "display_name": "Python 3",
   "language": "python"
  },
  "language_info": {
   "name": "python",
   "version": "3.10.4",
   "mimetype": "text/x-python",
   "codemirror_mode": {
    "name": "ipython",
    "version": 3
   },
   "pygments_lexer": "ipython3",
   "nbconvert_exporter": "python",
   "file_extension": ".py"
  }
 },
 "nbformat": 4,
 "nbformat_minor": 1
}